{
 "cells": [
  {
   "cell_type": "markdown",
   "metadata": {
    "id": "1pRrtr-fgjSr"
   },
   "source": [
    "# Telecom Churn Prediction "
   ]
  },
  {
   "cell_type": "markdown",
   "metadata": {
    "id": "DYtPBOxFgt7F"
   },
   "source": [
    "In the telecom industry, customers are able to choose from multiple service providers and actively switch from one operator to another. In this highly competitive market, the telecommunications industry experiences an average of 15-25% annual churn rate. Given the fact that it costs 5-10 times more to acquire a new customer than to retain an existing one, customer retention has now become even more important than customer acquisition."
   ]
  },
  {
   "cell_type": "markdown",
   "metadata": {
    "id": "_UtjNwcfh96D"
   },
   "source": [
    "The goal is to analyse customer-level data of a leading telecom firm, build predictive models to identify customers at high risk of churn and identify the main indicators of churn."
   ]
  },
  {
   "cell_type": "markdown",
   "metadata": {
    "id": "h62TSfCIHFLc"
   },
   "source": [
    "By:\n",
    "\n",
    "- kamran shaikh \n",
    "- kamil shaikh "
   ]
  },
  {
   "cell_type": "code",
   "execution_count": 1,
   "metadata": {
    "id": "aFGOKNfszabt"
   },
   "outputs": [],
   "source": [
    "# lets import the required libraries and packages\n",
    "import numpy as np \n",
    "import pandas as pd \n",
    "import matplotlib.pyplot as plt\n",
    "import seaborn as sns\n",
    "from sklearn.model_selection import GridSearchCV\n",
    "from sklearn.linear_model import LogisticRegression\n",
    "from sklearn import metrics\n",
    "from sklearn.model_selection import KFold\n",
    "from sklearn.ensemble import RandomForestClassifier\n",
    "from sklearn.metrics import precision_score, recall_score\n",
    "import warnings\n",
    "warnings.filterwarnings('ignore')"
   ]
  },
  {
   "cell_type": "code",
   "execution_count": 2,
   "metadata": {
    "colab": {
     "base_uri": "https://localhost:8080/",
     "height": 255
    },
    "id": "kXPFXfECzabw",
    "outputId": "2665b33d-aabd-4b4d-afbf-f620405f0cc7"
   },
   "outputs": [
    {
     "data": {
      "text/html": [
       "<div>\n",
       "<style scoped>\n",
       "    .dataframe tbody tr th:only-of-type {\n",
       "        vertical-align: middle;\n",
       "    }\n",
       "\n",
       "    .dataframe tbody tr th {\n",
       "        vertical-align: top;\n",
       "    }\n",
       "\n",
       "    .dataframe thead th {\n",
       "        text-align: right;\n",
       "    }\n",
       "</style>\n",
       "<table border=\"1\" class=\"dataframe\">\n",
       "  <thead>\n",
       "    <tr style=\"text-align: right;\">\n",
       "      <th></th>\n",
       "      <th>mobile_number</th>\n",
       "      <th>circle_id</th>\n",
       "      <th>loc_og_t2o_mou</th>\n",
       "      <th>std_og_t2o_mou</th>\n",
       "      <th>loc_ic_t2o_mou</th>\n",
       "      <th>last_date_of_month_6</th>\n",
       "      <th>last_date_of_month_7</th>\n",
       "      <th>last_date_of_month_8</th>\n",
       "      <th>last_date_of_month_9</th>\n",
       "      <th>arpu_6</th>\n",
       "      <th>...</th>\n",
       "      <th>sachet_3g_9</th>\n",
       "      <th>fb_user_6</th>\n",
       "      <th>fb_user_7</th>\n",
       "      <th>fb_user_8</th>\n",
       "      <th>fb_user_9</th>\n",
       "      <th>aon</th>\n",
       "      <th>aug_vbc_3g</th>\n",
       "      <th>jul_vbc_3g</th>\n",
       "      <th>jun_vbc_3g</th>\n",
       "      <th>sep_vbc_3g</th>\n",
       "    </tr>\n",
       "  </thead>\n",
       "  <tbody>\n",
       "    <tr>\n",
       "      <th>0</th>\n",
       "      <td>7000842753</td>\n",
       "      <td>109</td>\n",
       "      <td>0.0</td>\n",
       "      <td>0.0</td>\n",
       "      <td>0.0</td>\n",
       "      <td>6/30/2014</td>\n",
       "      <td>7/31/2014</td>\n",
       "      <td>8/31/2014</td>\n",
       "      <td>9/30/2014</td>\n",
       "      <td>197.385</td>\n",
       "      <td>...</td>\n",
       "      <td>0</td>\n",
       "      <td>1.0</td>\n",
       "      <td>1.0</td>\n",
       "      <td>1.0</td>\n",
       "      <td>NaN</td>\n",
       "      <td>968</td>\n",
       "      <td>30.4</td>\n",
       "      <td>0.0</td>\n",
       "      <td>101.20</td>\n",
       "      <td>3.58</td>\n",
       "    </tr>\n",
       "    <tr>\n",
       "      <th>1</th>\n",
       "      <td>7001865778</td>\n",
       "      <td>109</td>\n",
       "      <td>0.0</td>\n",
       "      <td>0.0</td>\n",
       "      <td>0.0</td>\n",
       "      <td>6/30/2014</td>\n",
       "      <td>7/31/2014</td>\n",
       "      <td>8/31/2014</td>\n",
       "      <td>9/30/2014</td>\n",
       "      <td>34.047</td>\n",
       "      <td>...</td>\n",
       "      <td>0</td>\n",
       "      <td>NaN</td>\n",
       "      <td>1.0</td>\n",
       "      <td>1.0</td>\n",
       "      <td>NaN</td>\n",
       "      <td>1006</td>\n",
       "      <td>0.0</td>\n",
       "      <td>0.0</td>\n",
       "      <td>0.00</td>\n",
       "      <td>0.00</td>\n",
       "    </tr>\n",
       "    <tr>\n",
       "      <th>2</th>\n",
       "      <td>7001625959</td>\n",
       "      <td>109</td>\n",
       "      <td>0.0</td>\n",
       "      <td>0.0</td>\n",
       "      <td>0.0</td>\n",
       "      <td>6/30/2014</td>\n",
       "      <td>7/31/2014</td>\n",
       "      <td>8/31/2014</td>\n",
       "      <td>9/30/2014</td>\n",
       "      <td>167.690</td>\n",
       "      <td>...</td>\n",
       "      <td>0</td>\n",
       "      <td>NaN</td>\n",
       "      <td>NaN</td>\n",
       "      <td>NaN</td>\n",
       "      <td>1.0</td>\n",
       "      <td>1103</td>\n",
       "      <td>0.0</td>\n",
       "      <td>0.0</td>\n",
       "      <td>4.17</td>\n",
       "      <td>0.00</td>\n",
       "    </tr>\n",
       "    <tr>\n",
       "      <th>3</th>\n",
       "      <td>7001204172</td>\n",
       "      <td>109</td>\n",
       "      <td>0.0</td>\n",
       "      <td>0.0</td>\n",
       "      <td>0.0</td>\n",
       "      <td>6/30/2014</td>\n",
       "      <td>7/31/2014</td>\n",
       "      <td>8/31/2014</td>\n",
       "      <td>9/30/2014</td>\n",
       "      <td>221.338</td>\n",
       "      <td>...</td>\n",
       "      <td>0</td>\n",
       "      <td>NaN</td>\n",
       "      <td>NaN</td>\n",
       "      <td>NaN</td>\n",
       "      <td>NaN</td>\n",
       "      <td>2491</td>\n",
       "      <td>0.0</td>\n",
       "      <td>0.0</td>\n",
       "      <td>0.00</td>\n",
       "      <td>0.00</td>\n",
       "    </tr>\n",
       "    <tr>\n",
       "      <th>4</th>\n",
       "      <td>7000142493</td>\n",
       "      <td>109</td>\n",
       "      <td>0.0</td>\n",
       "      <td>0.0</td>\n",
       "      <td>0.0</td>\n",
       "      <td>6/30/2014</td>\n",
       "      <td>7/31/2014</td>\n",
       "      <td>8/31/2014</td>\n",
       "      <td>9/30/2014</td>\n",
       "      <td>261.636</td>\n",
       "      <td>...</td>\n",
       "      <td>0</td>\n",
       "      <td>0.0</td>\n",
       "      <td>NaN</td>\n",
       "      <td>NaN</td>\n",
       "      <td>NaN</td>\n",
       "      <td>1526</td>\n",
       "      <td>0.0</td>\n",
       "      <td>0.0</td>\n",
       "      <td>0.00</td>\n",
       "      <td>0.00</td>\n",
       "    </tr>\n",
       "  </tbody>\n",
       "</table>\n",
       "<p>5 rows × 226 columns</p>\n",
       "</div>"
      ],
      "text/plain": [
       "   mobile_number  circle_id  loc_og_t2o_mou  std_og_t2o_mou  loc_ic_t2o_mou  \\\n",
       "0     7000842753        109             0.0             0.0             0.0   \n",
       "1     7001865778        109             0.0             0.0             0.0   \n",
       "2     7001625959        109             0.0             0.0             0.0   \n",
       "3     7001204172        109             0.0             0.0             0.0   \n",
       "4     7000142493        109             0.0             0.0             0.0   \n",
       "\n",
       "  last_date_of_month_6 last_date_of_month_7 last_date_of_month_8  \\\n",
       "0            6/30/2014            7/31/2014            8/31/2014   \n",
       "1            6/30/2014            7/31/2014            8/31/2014   \n",
       "2            6/30/2014            7/31/2014            8/31/2014   \n",
       "3            6/30/2014            7/31/2014            8/31/2014   \n",
       "4            6/30/2014            7/31/2014            8/31/2014   \n",
       "\n",
       "  last_date_of_month_9   arpu_6  ...  sachet_3g_9  fb_user_6  fb_user_7  \\\n",
       "0            9/30/2014  197.385  ...            0        1.0        1.0   \n",
       "1            9/30/2014   34.047  ...            0        NaN        1.0   \n",
       "2            9/30/2014  167.690  ...            0        NaN        NaN   \n",
       "3            9/30/2014  221.338  ...            0        NaN        NaN   \n",
       "4            9/30/2014  261.636  ...            0        0.0        NaN   \n",
       "\n",
       "   fb_user_8  fb_user_9   aon  aug_vbc_3g  jul_vbc_3g  jun_vbc_3g  sep_vbc_3g  \n",
       "0        1.0        NaN   968        30.4         0.0      101.20        3.58  \n",
       "1        1.0        NaN  1006         0.0         0.0        0.00        0.00  \n",
       "2        NaN        1.0  1103         0.0         0.0        4.17        0.00  \n",
       "3        NaN        NaN  2491         0.0         0.0        0.00        0.00  \n",
       "4        NaN        NaN  1526         0.0         0.0        0.00        0.00  \n",
       "\n",
       "[5 rows x 226 columns]"
      ]
     },
     "execution_count": 2,
     "metadata": {},
     "output_type": "execute_result"
    }
   ],
   "source": [
    "# lets import the dataset\n",
    "telecom = pd.read_csv('telecom_churn_data.csv')\n",
    "telecom.head()"
   ]
  },
  {
   "cell_type": "code",
   "execution_count": 3,
   "metadata": {
    "colab": {
     "base_uri": "https://localhost:8080/"
    },
    "id": "oyVjElS5zabx",
    "outputId": "6850c009-5bb0-4397-a014-757882fa1307"
   },
   "outputs": [
    {
     "data": {
      "text/plain": [
       "(99999, 226)"
      ]
     },
     "execution_count": 3,
     "metadata": {},
     "output_type": "execute_result"
    }
   ],
   "source": [
    "# lets check the dimensions of the dataset\n",
    "telecom.shape"
   ]
  },
  {
   "cell_type": "markdown",
   "metadata": {
    "id": "JWxzvXVgzaby"
   },
   "source": [
    "# High Value Customers"
   ]
  },
  {
   "cell_type": "markdown",
   "metadata": {
    "id": "-7J56Kn7GgE4"
   },
   "source": [
    "High-value customers : Those who have recharged with an amount more than or equal to X, where X is the 70th percentile of the average recharge amount in the first two months (the good phase)\n",
    "\n",
    "lets find out total amount spent by customers on data recharge,we have two colums available to find this out, first column is av_rech_amt_data_x (x represents month here, would be either 6 or 7 or 8), second column is total_rech_data_x (x represnts month here, would be either 6 or 7 or 8)"
   ]
  },
  {
   "cell_type": "code",
   "execution_count": 4,
   "metadata": {
    "colab": {
     "base_uri": "https://localhost:8080/"
    },
    "id": "xPxE0yP5zaby",
    "outputId": "0e59e728-4c01-4698-fdf4-122b3706f2c3"
   },
   "outputs": [
    {
     "name": "stdout",
     "output_type": "stream",
     "text": [
      "70 percentile is :  478.0\n",
      "Dimensions of the filtered dataset: (30001, 222)\n"
     ]
    }
   ],
   "source": [
    "# lets introduce a new column total_rech_data_amt_x which can be calculated as av_rech_amt_data_x * total_rech_data_x\n",
    "\n",
    "telecom['total_rech_data_amt_6'] = telecom['av_rech_amt_data_6'] * telecom['total_rech_data_6']\n",
    "telecom['total_rech_data_amt_7'] = telecom['av_rech_amt_data_7'] * telecom['total_rech_data_7']\n",
    "telecom['total_rech_data_amt_8'] = telecom['av_rech_amt_data_8'] * telecom['total_rech_data_8']\n",
    "telecom['total_rech_data_amt_9'] = telecom['av_rech_amt_data_9'] * telecom['total_rech_data_9']\n",
    "\n",
    "# now we dont need columns av_rech_amt_data_x,total_rech_data_x (x = 6/7/8) , lets drop them\n",
    "telecom.drop(['total_rech_data_6','total_rech_data_7','total_rech_data_8','total_rech_data_9',\n",
    "'av_rech_amt_data_6','av_rech_amt_data_7','av_rech_amt_data_8','av_rech_amt_data_9'],axis = 1,inplace = True)\n",
    "\n",
    "# lets find out the average recharge done in the first two months(june & july) - the good phase\n",
    "# total amount spend would be the sum of total data recharge done & total call/sms recharges\n",
    "telecom_av_rech_6n7 = (telecom['total_rech_amt_6'].fillna(0) \n",
    "+ telecom['total_rech_amt_7'].fillna(0) \n",
    "+ telecom['total_rech_data_amt_6'].fillna(0) \n",
    "+ telecom['total_rech_data_amt_7'].fillna(0))/2\n",
    "\n",
    "# take 70 percentile of the calculated average amount\n",
    "percentile_70_6n7 = np.percentile(telecom_av_rech_6n7, 70.0)\n",
    "print(\"70 percentile is : \", percentile_70_6n7)\n",
    "\n",
    "# fitler the given data set based on 70th percentile\n",
    "telecom_hv_cust = telecom[telecom_av_rech_6n7 >= percentile_70_6n7]\n",
    "\n",
    "print(\"Dimensions of the filtered dataset:\",telecom_hv_cust.shape)"
   ]
  },
  {
   "cell_type": "code",
   "execution_count": 5,
   "metadata": {
    "colab": {
     "base_uri": "https://localhost:8080/",
     "height": 255
    },
    "id": "KIkdSjUwzabz",
    "outputId": "0b51c45d-7e01-4dcf-9116-dda68cf2d328"
   },
   "outputs": [
    {
     "data": {
      "text/html": [
       "<div>\n",
       "<style scoped>\n",
       "    .dataframe tbody tr th:only-of-type {\n",
       "        vertical-align: middle;\n",
       "    }\n",
       "\n",
       "    .dataframe tbody tr th {\n",
       "        vertical-align: top;\n",
       "    }\n",
       "\n",
       "    .dataframe thead th {\n",
       "        text-align: right;\n",
       "    }\n",
       "</style>\n",
       "<table border=\"1\" class=\"dataframe\">\n",
       "  <thead>\n",
       "    <tr style=\"text-align: right;\">\n",
       "      <th></th>\n",
       "      <th>mobile_number</th>\n",
       "      <th>circle_id</th>\n",
       "      <th>loc_og_t2o_mou</th>\n",
       "      <th>std_og_t2o_mou</th>\n",
       "      <th>loc_ic_t2o_mou</th>\n",
       "      <th>last_date_of_month_6</th>\n",
       "      <th>last_date_of_month_7</th>\n",
       "      <th>last_date_of_month_8</th>\n",
       "      <th>last_date_of_month_9</th>\n",
       "      <th>arpu_6</th>\n",
       "      <th>...</th>\n",
       "      <th>aon</th>\n",
       "      <th>aug_vbc_3g</th>\n",
       "      <th>jul_vbc_3g</th>\n",
       "      <th>jun_vbc_3g</th>\n",
       "      <th>sep_vbc_3g</th>\n",
       "      <th>total_rech_data_amt_6</th>\n",
       "      <th>total_rech_data_amt_7</th>\n",
       "      <th>total_rech_data_amt_8</th>\n",
       "      <th>total_rech_data_amt_9</th>\n",
       "      <th>churn</th>\n",
       "    </tr>\n",
       "  </thead>\n",
       "  <tbody>\n",
       "    <tr>\n",
       "      <th>0</th>\n",
       "      <td>7000842753</td>\n",
       "      <td>109</td>\n",
       "      <td>0.0</td>\n",
       "      <td>0.0</td>\n",
       "      <td>0.0</td>\n",
       "      <td>6/30/2014</td>\n",
       "      <td>7/31/2014</td>\n",
       "      <td>8/31/2014</td>\n",
       "      <td>9/30/2014</td>\n",
       "      <td>197.385</td>\n",
       "      <td>...</td>\n",
       "      <td>968</td>\n",
       "      <td>30.40</td>\n",
       "      <td>0.00</td>\n",
       "      <td>101.20</td>\n",
       "      <td>3.58</td>\n",
       "      <td>252.0</td>\n",
       "      <td>252.0</td>\n",
       "      <td>252.0</td>\n",
       "      <td>NaN</td>\n",
       "      <td>1</td>\n",
       "    </tr>\n",
       "    <tr>\n",
       "      <th>7</th>\n",
       "      <td>7000701601</td>\n",
       "      <td>109</td>\n",
       "      <td>0.0</td>\n",
       "      <td>0.0</td>\n",
       "      <td>0.0</td>\n",
       "      <td>6/30/2014</td>\n",
       "      <td>7/31/2014</td>\n",
       "      <td>8/31/2014</td>\n",
       "      <td>9/30/2014</td>\n",
       "      <td>1069.180</td>\n",
       "      <td>...</td>\n",
       "      <td>802</td>\n",
       "      <td>57.74</td>\n",
       "      <td>19.38</td>\n",
       "      <td>18.74</td>\n",
       "      <td>0.00</td>\n",
       "      <td>NaN</td>\n",
       "      <td>NaN</td>\n",
       "      <td>NaN</td>\n",
       "      <td>NaN</td>\n",
       "      <td>1</td>\n",
       "    </tr>\n",
       "    <tr>\n",
       "      <th>8</th>\n",
       "      <td>7001524846</td>\n",
       "      <td>109</td>\n",
       "      <td>0.0</td>\n",
       "      <td>0.0</td>\n",
       "      <td>0.0</td>\n",
       "      <td>6/30/2014</td>\n",
       "      <td>7/31/2014</td>\n",
       "      <td>8/31/2014</td>\n",
       "      <td>9/30/2014</td>\n",
       "      <td>378.721</td>\n",
       "      <td>...</td>\n",
       "      <td>315</td>\n",
       "      <td>21.03</td>\n",
       "      <td>910.65</td>\n",
       "      <td>122.16</td>\n",
       "      <td>0.00</td>\n",
       "      <td>NaN</td>\n",
       "      <td>354.0</td>\n",
       "      <td>207.0</td>\n",
       "      <td>NaN</td>\n",
       "      <td>0</td>\n",
       "    </tr>\n",
       "    <tr>\n",
       "      <th>21</th>\n",
       "      <td>7002124215</td>\n",
       "      <td>109</td>\n",
       "      <td>0.0</td>\n",
       "      <td>0.0</td>\n",
       "      <td>0.0</td>\n",
       "      <td>6/30/2014</td>\n",
       "      <td>7/31/2014</td>\n",
       "      <td>8/31/2014</td>\n",
       "      <td>9/30/2014</td>\n",
       "      <td>514.453</td>\n",
       "      <td>...</td>\n",
       "      <td>720</td>\n",
       "      <td>0.00</td>\n",
       "      <td>0.00</td>\n",
       "      <td>0.00</td>\n",
       "      <td>0.00</td>\n",
       "      <td>NaN</td>\n",
       "      <td>NaN</td>\n",
       "      <td>NaN</td>\n",
       "      <td>NaN</td>\n",
       "      <td>0</td>\n",
       "    </tr>\n",
       "    <tr>\n",
       "      <th>23</th>\n",
       "      <td>7000887461</td>\n",
       "      <td>109</td>\n",
       "      <td>0.0</td>\n",
       "      <td>0.0</td>\n",
       "      <td>0.0</td>\n",
       "      <td>6/30/2014</td>\n",
       "      <td>7/31/2014</td>\n",
       "      <td>8/31/2014</td>\n",
       "      <td>9/30/2014</td>\n",
       "      <td>74.350</td>\n",
       "      <td>...</td>\n",
       "      <td>604</td>\n",
       "      <td>40.45</td>\n",
       "      <td>51.86</td>\n",
       "      <td>0.00</td>\n",
       "      <td>0.00</td>\n",
       "      <td>NaN</td>\n",
       "      <td>712.0</td>\n",
       "      <td>540.0</td>\n",
       "      <td>252.0</td>\n",
       "      <td>0</td>\n",
       "    </tr>\n",
       "  </tbody>\n",
       "</table>\n",
       "<p>5 rows × 223 columns</p>\n",
       "</div>"
      ],
      "text/plain": [
       "    mobile_number  circle_id  loc_og_t2o_mou  std_og_t2o_mou  loc_ic_t2o_mou  \\\n",
       "0      7000842753        109             0.0             0.0             0.0   \n",
       "7      7000701601        109             0.0             0.0             0.0   \n",
       "8      7001524846        109             0.0             0.0             0.0   \n",
       "21     7002124215        109             0.0             0.0             0.0   \n",
       "23     7000887461        109             0.0             0.0             0.0   \n",
       "\n",
       "   last_date_of_month_6 last_date_of_month_7 last_date_of_month_8  \\\n",
       "0             6/30/2014            7/31/2014            8/31/2014   \n",
       "7             6/30/2014            7/31/2014            8/31/2014   \n",
       "8             6/30/2014            7/31/2014            8/31/2014   \n",
       "21            6/30/2014            7/31/2014            8/31/2014   \n",
       "23            6/30/2014            7/31/2014            8/31/2014   \n",
       "\n",
       "   last_date_of_month_9    arpu_6  ...  aon  aug_vbc_3g  jul_vbc_3g  \\\n",
       "0             9/30/2014   197.385  ...  968       30.40        0.00   \n",
       "7             9/30/2014  1069.180  ...  802       57.74       19.38   \n",
       "8             9/30/2014   378.721  ...  315       21.03      910.65   \n",
       "21            9/30/2014   514.453  ...  720        0.00        0.00   \n",
       "23            9/30/2014    74.350  ...  604       40.45       51.86   \n",
       "\n",
       "    jun_vbc_3g  sep_vbc_3g  total_rech_data_amt_6  total_rech_data_amt_7  \\\n",
       "0       101.20        3.58                  252.0                  252.0   \n",
       "7        18.74        0.00                    NaN                    NaN   \n",
       "8       122.16        0.00                    NaN                  354.0   \n",
       "21        0.00        0.00                    NaN                    NaN   \n",
       "23        0.00        0.00                    NaN                  712.0   \n",
       "\n",
       "    total_rech_data_amt_8  total_rech_data_amt_9  churn  \n",
       "0                   252.0                    NaN      1  \n",
       "7                     NaN                    NaN      1  \n",
       "8                   207.0                    NaN      0  \n",
       "21                    NaN                    NaN      0  \n",
       "23                  540.0                  252.0      0  \n",
       "\n",
       "[5 rows x 223 columns]"
      ]
     },
     "execution_count": 5,
     "metadata": {},
     "output_type": "execute_result"
    }
   ],
   "source": [
    "# lets introduce a new column \"churn\", values would be either 1 (churn) or 0 (non-churn)\n",
    "# we will calculate churn/non-churn based on the usage as mentioned in the problem statement\n",
    "telecom_hv_cust['churn'] = np.where(telecom_hv_cust[['total_ic_mou_9','total_og_mou_9','vol_2g_mb_9','vol_3g_mb_9']].sum(axis=1) == 0, 1,0)\n",
    "telecom_hv_cust.head()"
   ]
  },
  {
   "cell_type": "code",
   "execution_count": 6,
   "metadata": {
    "colab": {
     "base_uri": "https://localhost:8080/"
    },
    "id": "eShP7b7bzab0",
    "outputId": "2d8183ed-6822-43a8-9bed-c90e8eff273b"
   },
   "outputs": [
    {
     "data": {
      "text/plain": [
       "0    91.863605\n",
       "1     8.136395\n",
       "Name: churn, dtype: float64"
      ]
     },
     "execution_count": 6,
     "metadata": {},
     "output_type": "execute_result"
    }
   ],
   "source": [
    "# lets find out churn/non churn percentage\n",
    "telecom_hv_cust['churn'].value_counts()/len(telecom_hv_cust)*100\n",
    "\n",
    "#observation : 91% of the customers do not churn, this might be a case of class imbalance, we will treat it later"
   ]
  },
  {
   "cell_type": "code",
   "execution_count": 7,
   "metadata": {
    "colab": {
     "base_uri": "https://localhost:8080/"
    },
    "id": "7i0F3sWqzab0",
    "outputId": "1bbfc8c8-9664-48d7-c53e-193f55a53051"
   },
   "outputs": [
    {
     "name": "stdout",
     "output_type": "stream",
     "text": [
      "\n",
      "Column circle_id has no variance and contains only 1 unique value\n",
      "Dropping the column circle_id\n",
      "\n",
      "Column loc_og_t2o_mou has no variance and contains only 1 unique value\n",
      "Dropping the column loc_og_t2o_mou\n",
      "\n",
      "Column std_og_t2o_mou has no variance and contains only 1 unique value\n",
      "Dropping the column std_og_t2o_mou\n",
      "\n",
      "Column loc_ic_t2o_mou has no variance and contains only 1 unique value\n",
      "Dropping the column loc_ic_t2o_mou\n",
      "\n",
      "Column last_date_of_month_6 has no variance and contains only 1 unique value\n",
      "Dropping the column last_date_of_month_6\n",
      "\n",
      "Column last_date_of_month_7 has no variance and contains only 1 unique value\n",
      "Dropping the column last_date_of_month_7\n",
      "\n",
      "Column last_date_of_month_8 has no variance and contains only 1 unique value\n",
      "Dropping the column last_date_of_month_8\n",
      "\n",
      "Column last_date_of_month_9 has no variance and contains only 1 unique value\n",
      "Dropping the column last_date_of_month_9\n",
      "\n",
      "Column std_og_t2c_mou_6 has no variance and contains only 1 unique value\n",
      "Dropping the column std_og_t2c_mou_6\n",
      "\n",
      "Column std_og_t2c_mou_7 has no variance and contains only 1 unique value\n",
      "Dropping the column std_og_t2c_mou_7\n",
      "\n",
      "Column std_og_t2c_mou_8 has no variance and contains only 1 unique value\n",
      "Dropping the column std_og_t2c_mou_8\n",
      "\n",
      "Column std_og_t2c_mou_9 has no variance and contains only 1 unique value\n",
      "Dropping the column std_og_t2c_mou_9\n",
      "\n",
      "Column std_ic_t2o_mou_6 has no variance and contains only 1 unique value\n",
      "Dropping the column std_ic_t2o_mou_6\n",
      "\n",
      "Column std_ic_t2o_mou_7 has no variance and contains only 1 unique value\n",
      "Dropping the column std_ic_t2o_mou_7\n",
      "\n",
      "Column std_ic_t2o_mou_8 has no variance and contains only 1 unique value\n",
      "Dropping the column std_ic_t2o_mou_8\n",
      "\n",
      "Column std_ic_t2o_mou_9 has no variance and contains only 1 unique value\n",
      "Dropping the column std_ic_t2o_mou_9\n",
      "\n",
      "Dimension of the updated dataset: (30001, 207)\n"
     ]
    }
   ],
   "source": [
    "# lets check the columns with no variance in their values and drop such columns\n",
    "for i in telecom_hv_cust.columns:\n",
    "    if telecom_hv_cust[i].nunique() == 1:\n",
    "        print(\"\\nColumn\",i,\"has no variance and contains only\", telecom_hv_cust[i].nunique(),\"unique value\")\n",
    "        print(\"Dropping the column\",i)\n",
    "        telecom_hv_cust.drop(i,axis=1,inplace = True)\n",
    "\n",
    "print(\"\\nDimension of the updated dataset:\",telecom_hv_cust.shape)"
   ]
  },
  {
   "cell_type": "code",
   "execution_count": 8,
   "metadata": {
    "colab": {
     "base_uri": "https://localhost:8080/"
    },
    "id": "fFI0qfPNzab1",
    "outputId": "72357b0f-44bd-4c39-e0b2-e2c8d27bab86"
   },
   "outputs": [
    {
     "data": {
      "text/plain": [
       "arpu_3g_9                   49.268358\n",
       "fb_user_9                   49.268358\n",
       "date_of_last_rech_data_9    49.268358\n",
       "max_rech_data_9             49.268358\n",
       "count_rech_2g_9             49.268358\n",
       "                              ...    \n",
       "max_rech_amt_8               0.000000\n",
       "max_rech_amt_7               0.000000\n",
       "max_rech_amt_6               0.000000\n",
       "total_rech_amt_9             0.000000\n",
       "churn                        0.000000\n",
       "Length: 207, dtype: float64"
      ]
     },
     "execution_count": 8,
     "metadata": {},
     "output_type": "execute_result"
    }
   ],
   "source": [
    "# lets check the null values present in the dataset\n",
    "(telecom_hv_cust.isnull().sum() * 100 / len(telecom_hv_cust)).sort_values(ascending = False)"
   ]
  },
  {
   "cell_type": "code",
   "execution_count": 9,
   "metadata": {
    "colab": {
     "base_uri": "https://localhost:8080/"
    },
    "id": "hLyRzujmzab1",
    "outputId": "772d430f-2ff8-4488-9dee-3dd41f78ccab"
   },
   "outputs": [
    {
     "name": "stdout",
     "output_type": "stream",
     "text": [
      "list of columns dropped: date_of_last_rech_data_6    date_of_last_rech_data_6\n",
      "date_of_last_rech_data_7    date_of_last_rech_data_7\n",
      "date_of_last_rech_data_8    date_of_last_rech_data_8\n",
      "max_rech_data_6                      max_rech_data_6\n",
      "max_rech_data_7                      max_rech_data_7\n",
      "max_rech_data_8                      max_rech_data_8\n",
      "count_rech_2g_6                      count_rech_2g_6\n",
      "count_rech_2g_7                      count_rech_2g_7\n",
      "count_rech_2g_8                      count_rech_2g_8\n",
      "count_rech_3g_6                      count_rech_3g_6\n",
      "count_rech_3g_7                      count_rech_3g_7\n",
      "count_rech_3g_8                      count_rech_3g_8\n",
      "arpu_3g_6                                  arpu_3g_6\n",
      "arpu_3g_7                                  arpu_3g_7\n",
      "arpu_3g_8                                  arpu_3g_8\n",
      "arpu_2g_6                                  arpu_2g_6\n",
      "arpu_2g_7                                  arpu_2g_7\n",
      "arpu_2g_8                                  arpu_2g_8\n",
      "night_pck_user_6                    night_pck_user_6\n",
      "night_pck_user_7                    night_pck_user_7\n",
      "night_pck_user_8                    night_pck_user_8\n",
      "fb_user_6                                  fb_user_6\n",
      "fb_user_7                                  fb_user_7\n",
      "fb_user_8                                  fb_user_8\n",
      "total_rech_data_amt_6          total_rech_data_amt_6\n",
      "total_rech_data_amt_7          total_rech_data_amt_7\n",
      "total_rech_data_amt_8          total_rech_data_amt_8\n",
      "Name: col_name, dtype: object\n"
     ]
    },
    {
     "data": {
      "text/plain": [
       "(30001, 180)"
      ]
     },
     "execution_count": 9,
     "metadata": {},
     "output_type": "execute_result"
    }
   ],
   "source": [
    "# Drop Columns with > 30% of missing values except 9th Month's columns\n",
    "cols = telecom_hv_cust.columns\n",
    "telecom_null_perc = telecom_hv_cust.isnull().sum() * 100 / len(telecom_hv_cust)\n",
    "telecom_null_df = pd.DataFrame({'col_name': cols,\n",
    "                                 'perc_null': telecom_null_perc})\n",
    "\n",
    "drop_cols = telecom_null_df.loc[(telecom_null_df[\"col_name\"].str.contains('_9')==False) & (telecom_null_df[\"perc_null\"] > 30.0)][\"col_name\"]\n",
    "print(\"list of columns dropped:\",drop_cols)\n",
    "\n",
    "# lets drop these columns\n",
    "telecom_hv_cust.drop(drop_cols, axis=1,inplace = True)\n",
    "telecom_hv_cust.shape"
   ]
  },
  {
   "cell_type": "code",
   "execution_count": 10,
   "metadata": {
    "colab": {
     "base_uri": "https://localhost:8080/"
    },
    "id": "a4YtbeEDzab2",
    "outputId": "5ada956b-c152-42b3-f3b9-55c84906db29"
   },
   "outputs": [
    {
     "name": "stdout",
     "output_type": "stream",
     "text": [
      "date_of_last_rech_6         6/21/2014\n",
      "date_of_last_rech_7         7/16/2014\n",
      "date_of_last_rech_8          8/8/2014\n",
      "date_of_last_rech_9         9/28/2014\n",
      "date_of_last_rech_data_9          NaN\n",
      "Name: 0, dtype: object\n"
     ]
    }
   ],
   "source": [
    "# lets check for columns that can be changed to integers, floats or date types\n",
    "object_col_data = telecom_hv_cust.select_dtypes(include=['object'])\n",
    "print(object_col_data.iloc[0])"
   ]
  },
  {
   "cell_type": "code",
   "execution_count": 11,
   "metadata": {
    "colab": {
     "base_uri": "https://localhost:8080/"
    },
    "id": "_yPBNap8zab2",
    "outputId": "37421db5-acd7-41fc-e97a-baba4625f161"
   },
   "outputs": [
    {
     "data": {
      "text/plain": [
       "(30001, 180)"
      ]
     },
     "execution_count": 11,
     "metadata": {},
     "output_type": "execute_result"
    }
   ],
   "source": [
    "# convert to datetime\n",
    "for col in object_col_data.columns:\n",
    "    telecom_hv_cust[col] = pd.to_datetime(telecom_hv_cust[col])\n",
    "\n",
    "telecom_hv_cust.shape"
   ]
  },
  {
   "cell_type": "code",
   "execution_count": 12,
   "metadata": {
    "colab": {
     "base_uri": "https://localhost:8080/"
    },
    "id": "yyxYtKkXzab2",
    "outputId": "c03698bd-0731-4bad-9c14-fe13cd3fcc25"
   },
   "outputs": [
    {
     "data": {
      "text/plain": [
       "monthly_3g_6      vol_3g_mb_6         0.601308\n",
       "total_ic_mou_7    loc_ic_t2t_mou_7    0.601684\n",
       "arpu_2g_9         count_rech_3g_9     0.602386\n",
       "total_og_mou_8    onnet_mou_9         0.603450\n",
       "total_rech_amt_8  arpu_6              0.603673\n",
       "                                        ...   \n",
       "isd_og_mou_8      isd_og_mou_7        0.949809\n",
       "                  isd_og_mou_6        0.950194\n",
       "total_rech_amt_9  arpu_9              0.950539\n",
       "total_rech_amt_8  arpu_8              0.955351\n",
       "sachet_2g_9       count_rech_2g_9     0.980131\n",
       "Length: 337, dtype: float64"
      ]
     },
     "execution_count": 12,
     "metadata": {},
     "output_type": "execute_result"
    }
   ],
   "source": [
    "# lets check the correlation amongst the features, drop the highly correlated ones\n",
    "cor = telecom_hv_cust.corr()\n",
    "cor.loc[:,:] = np.tril(cor, k=-1)\n",
    "cor = cor.stack()\n",
    "cor[(cor > 0.60) | (cor < -0.60)].sort_values()"
   ]
  },
  {
   "cell_type": "code",
   "execution_count": 13,
   "metadata": {
    "colab": {
     "base_uri": "https://localhost:8080/"
    },
    "id": "Rr7vqKa3zab3",
    "outputId": "b65c64f1-3b4d-4320-eb53-afcf3c85fab2"
   },
   "outputs": [
    {
     "data": {
      "text/plain": [
       "(30001, 125)"
      ]
     },
     "execution_count": 13,
     "metadata": {},
     "output_type": "execute_result"
    }
   ],
   "source": [
    "# we will drop the columns with high correlation (+/- 60%)\n",
    "drop_col_list = ['loc_og_t2m_mou_6','std_og_t2t_mou_6','std_og_t2t_mou_7','std_og_t2t_mou_8','std_og_t2t_mou_9','std_og_t2m_mou_6',\n",
    "                'std_og_t2m_mou_7','std_og_t2m_mou_8','std_og_t2m_mou_9','total_og_mou_6','total_og_mou_7','total_og_mou_8',\n",
    "                'loc_ic_t2t_mou_6','loc_ic_t2t_mou_7','loc_ic_t2t_mou_8','loc_ic_t2t_mou_9','loc_ic_t2m_mou_6','loc_ic_t2m_mou_7','loc_ic_t2m_mou_8','loc_ic_t2m_mou_9',\n",
    "                'std_ic_t2m_mou_6','std_ic_t2m_mou_7','std_ic_t2m_mou_8','std_ic_t2m_mou_9','total_ic_mou_6','total_ic_mou_7','total_ic_mou_8',\n",
    "                'total_rech_amt_6','total_rech_amt_7','total_rech_amt_8','total_rech_amt_9','arpu_2g_9','count_rech_2g_9','count_rech_3g_9','vol_3g_mb_6','vol_3g_mb_7','vol_3g_mb_8',\n",
    "                'loc_og_t2t_mou_6','loc_og_t2t_mou_7','loc_og_t2t_mou_8','loc_og_t2t_mou_9','loc_og_t2f_mou_6','loc_og_t2f_mou_7','loc_og_t2f_mou_8','loc_og_t2f_mou_9',\n",
    "                'loc_og_t2m_mou_6','loc_og_t2m_mou_7','loc_og_t2m_mou_8','loc_og_t2m_mou_9','loc_ic_t2f_mou_6','loc_ic_t2f_mou_7','loc_ic_t2f_mou_8','loc_ic_t2f_mou_9',\n",
    "                'date_of_last_rech_6','date_of_last_rech_7','date_of_last_rech_8']\n",
    "                 \n",
    "telecom_hv_cust.drop(drop_col_list, axis=1, inplace=True)\n",
    "telecom_hv_cust.shape"
   ]
  },
  {
   "cell_type": "code",
   "execution_count": 14,
   "metadata": {
    "colab": {
     "base_uri": "https://localhost:8080/"
    },
    "id": "NHxmm6YKzab3",
    "outputId": "2b3ce415-68a0-48f1-e9ad-79c4f8e63998"
   },
   "outputs": [
    {
     "name": "stdout",
     "output_type": "stream",
     "text": [
      "['arpu_9', 'onnet_mou_9', 'offnet_mou_9', 'roam_ic_mou_9', 'roam_og_mou_9', 'loc_og_t2c_mou_9', 'loc_og_mou_9', 'std_og_t2f_mou_9', 'std_og_mou_9', 'isd_og_mou_9', 'spl_og_mou_9', 'og_others_9', 'total_og_mou_9', 'loc_ic_mou_9', 'std_ic_t2t_mou_9', 'std_ic_t2f_mou_9', 'std_ic_mou_9', 'total_ic_mou_9', 'spl_ic_mou_9', 'isd_ic_mou_9', 'ic_others_9', 'total_rech_num_9', 'max_rech_amt_9', 'date_of_last_rech_9', 'last_day_rch_amt_9', 'date_of_last_rech_data_9', 'max_rech_data_9', 'vol_2g_mb_9', 'vol_3g_mb_9', 'arpu_3g_9', 'night_pck_user_9', 'monthly_2g_9', 'sachet_2g_9', 'monthly_3g_9', 'sachet_3g_9', 'fb_user_9', 'total_rech_data_amt_9']\n"
     ]
    },
    {
     "data": {
      "text/plain": [
       "(30001, 88)"
      ]
     },
     "execution_count": 14,
     "metadata": {},
     "output_type": "execute_result"
    }
   ],
   "source": [
    "# Now we will delete 9th month columns because we would predict churn/non-churn later based on data from the 1st 3 months\n",
    "cols_to_drop = [col for col in telecom_hv_cust.columns if '_9' in col]\n",
    "print(cols_to_drop)\n",
    "\n",
    "telecom_hv_cust.drop(cols_to_drop, axis=1, inplace=True)\n",
    "\n",
    "telecom_hv_cust.shape"
   ]
  },
  {
   "cell_type": "code",
   "execution_count": 15,
   "metadata": {
    "colab": {
     "base_uri": "https://localhost:8080/"
    },
    "id": "YuRnuFHCzab4",
    "outputId": "0cf4438b-f7af-400f-e0c9-ee29f21d4922"
   },
   "outputs": [
    {
     "data": {
      "text/plain": [
       "loc_og_t2c_mou_8      3.913203\n",
       "roam_ic_mou_8         3.913203\n",
       "spl_og_mou_8          3.913203\n",
       "isd_og_mou_8          3.913203\n",
       "std_og_mou_8          3.913203\n",
       "                        ...   \n",
       "last_day_rch_amt_7    0.000000\n",
       "last_day_rch_amt_8    0.000000\n",
       "vol_2g_mb_6           0.000000\n",
       "vol_2g_mb_7           0.000000\n",
       "churn                 0.000000\n",
       "Length: 88, dtype: float64"
      ]
     },
     "execution_count": 15,
     "metadata": {},
     "output_type": "execute_result"
    }
   ],
   "source": [
    "# lets check the dataset again\n",
    "(telecom_hv_cust.isnull().sum() * 100 / len(telecom_hv_cust)).sort_values(ascending = False)\n",
    "\n",
    "# Obervation : we are left with few columns with around 4% of null values"
   ]
  },
  {
   "cell_type": "code",
   "execution_count": 16,
   "metadata": {
    "id": "CAUu96nhzab4"
   },
   "outputs": [],
   "source": [
    "# drop rows with null values\n",
    "telecom_hv_cust = telecom_hv_cust[~np.isnan(telecom_hv_cust['onnet_mou_6'])]\n",
    "telecom_hv_cust = telecom_hv_cust[~np.isnan(telecom_hv_cust['onnet_mou_7'])]\n",
    "telecom_hv_cust = telecom_hv_cust[~np.isnan(telecom_hv_cust['onnet_mou_8'])]\n",
    "telecom_hv_cust = telecom_hv_cust[~np.isnan(telecom_hv_cust['offnet_mou_6'])]\n",
    "telecom_hv_cust = telecom_hv_cust[~np.isnan(telecom_hv_cust['offnet_mou_7'])]\n",
    "telecom_hv_cust = telecom_hv_cust[~np.isnan(telecom_hv_cust['offnet_mou_8'])]\n",
    "telecom_hv_cust = telecom_hv_cust[~np.isnan(telecom_hv_cust['roam_ic_mou_6'])]\n",
    "telecom_hv_cust = telecom_hv_cust[~np.isnan(telecom_hv_cust['roam_ic_mou_7'])]\n",
    "telecom_hv_cust = telecom_hv_cust[~np.isnan(telecom_hv_cust['roam_ic_mou_8'])]\n",
    "telecom_hv_cust = telecom_hv_cust[~np.isnan(telecom_hv_cust['roam_og_mou_6'])]\n",
    "telecom_hv_cust = telecom_hv_cust[~np.isnan(telecom_hv_cust['roam_og_mou_7'])]\n",
    "telecom_hv_cust = telecom_hv_cust[~np.isnan(telecom_hv_cust['roam_og_mou_8'])]\n",
    "telecom_hv_cust = telecom_hv_cust[~np.isnan(telecom_hv_cust['loc_og_t2c_mou_6'])]\n",
    "telecom_hv_cust = telecom_hv_cust[~np.isnan(telecom_hv_cust['loc_og_t2c_mou_7'])]\n",
    "telecom_hv_cust = telecom_hv_cust[~np.isnan(telecom_hv_cust['loc_og_t2c_mou_8'])]\n",
    "telecom_hv_cust = telecom_hv_cust[~np.isnan(telecom_hv_cust['loc_og_mou_6'])]\n",
    "telecom_hv_cust = telecom_hv_cust[~np.isnan(telecom_hv_cust['loc_og_mou_7'])]\n",
    "telecom_hv_cust = telecom_hv_cust[~np.isnan(telecom_hv_cust['loc_og_mou_8'])]\n",
    "telecom_hv_cust = telecom_hv_cust[~np.isnan(telecom_hv_cust['std_og_t2f_mou_6'])]\n",
    "telecom_hv_cust = telecom_hv_cust[~np.isnan(telecom_hv_cust['std_og_t2f_mou_7'])]\n",
    "telecom_hv_cust = telecom_hv_cust[~np.isnan(telecom_hv_cust['std_og_t2f_mou_8'])]\n",
    "telecom_hv_cust = telecom_hv_cust[~np.isnan(telecom_hv_cust['std_og_mou_6'])]\n",
    "telecom_hv_cust = telecom_hv_cust[~np.isnan(telecom_hv_cust['std_og_mou_7'])]\n",
    "telecom_hv_cust = telecom_hv_cust[~np.isnan(telecom_hv_cust['std_og_mou_8'])]\n",
    "telecom_hv_cust = telecom_hv_cust[~np.isnan(telecom_hv_cust['isd_og_mou_6'])]\n",
    "telecom_hv_cust = telecom_hv_cust[~np.isnan(telecom_hv_cust['isd_og_mou_7'])]\n",
    "telecom_hv_cust = telecom_hv_cust[~np.isnan(telecom_hv_cust['isd_og_mou_8'])]\n",
    "telecom_hv_cust = telecom_hv_cust[~np.isnan(telecom_hv_cust['spl_og_mou_6'])]\n",
    "telecom_hv_cust = telecom_hv_cust[~np.isnan(telecom_hv_cust['spl_og_mou_7'])]\n",
    "telecom_hv_cust = telecom_hv_cust[~np.isnan(telecom_hv_cust['spl_og_mou_8'])]\n",
    "telecom_hv_cust = telecom_hv_cust[~np.isnan(telecom_hv_cust['og_others_6'])]\n",
    "telecom_hv_cust = telecom_hv_cust[~np.isnan(telecom_hv_cust['og_others_7'])]\n",
    "telecom_hv_cust = telecom_hv_cust[~np.isnan(telecom_hv_cust['og_others_8'])]\n",
    "telecom_hv_cust = telecom_hv_cust[~np.isnan(telecom_hv_cust['loc_ic_mou_6'])]\n",
    "telecom_hv_cust = telecom_hv_cust[~np.isnan(telecom_hv_cust['loc_ic_mou_7'])]\n",
    "telecom_hv_cust = telecom_hv_cust[~np.isnan(telecom_hv_cust['loc_ic_mou_8'])]\n",
    "telecom_hv_cust = telecom_hv_cust[~np.isnan(telecom_hv_cust['std_ic_t2t_mou_6'])]\n",
    "telecom_hv_cust = telecom_hv_cust[~np.isnan(telecom_hv_cust['std_ic_t2t_mou_7'])]\n",
    "telecom_hv_cust = telecom_hv_cust[~np.isnan(telecom_hv_cust['std_ic_t2t_mou_8'])]\n",
    "telecom_hv_cust = telecom_hv_cust[~np.isnan(telecom_hv_cust['std_ic_t2f_mou_6'])]\n",
    "telecom_hv_cust = telecom_hv_cust[~np.isnan(telecom_hv_cust['std_ic_t2f_mou_7'])]\n",
    "telecom_hv_cust = telecom_hv_cust[~np.isnan(telecom_hv_cust['std_ic_t2f_mou_8'])]\n",
    "telecom_hv_cust = telecom_hv_cust[~np.isnan(telecom_hv_cust['std_ic_mou_6'])]\n",
    "telecom_hv_cust = telecom_hv_cust[~np.isnan(telecom_hv_cust['std_ic_mou_7'])]\n",
    "telecom_hv_cust = telecom_hv_cust[~np.isnan(telecom_hv_cust['std_ic_mou_8'])]\n",
    "telecom_hv_cust = telecom_hv_cust[~np.isnan(telecom_hv_cust['spl_ic_mou_6'])]\n",
    "telecom_hv_cust = telecom_hv_cust[~np.isnan(telecom_hv_cust['spl_ic_mou_7'])]\n",
    "telecom_hv_cust = telecom_hv_cust[~np.isnan(telecom_hv_cust['spl_ic_mou_8'])]\n",
    "telecom_hv_cust = telecom_hv_cust[~np.isnan(telecom_hv_cust['isd_ic_mou_6'])]\n",
    "telecom_hv_cust = telecom_hv_cust[~np.isnan(telecom_hv_cust['isd_ic_mou_7'])]\n",
    "telecom_hv_cust = telecom_hv_cust[~np.isnan(telecom_hv_cust['isd_ic_mou_8'])]\n",
    "telecom_hv_cust = telecom_hv_cust[~np.isnan(telecom_hv_cust['ic_others_6'])]\n",
    "telecom_hv_cust = telecom_hv_cust[~np.isnan(telecom_hv_cust['ic_others_7'])]\n",
    "telecom_hv_cust = telecom_hv_cust[~np.isnan(telecom_hv_cust['ic_others_8'])]"
   ]
  },
  {
   "cell_type": "code",
   "execution_count": 17,
   "metadata": {
    "colab": {
     "base_uri": "https://localhost:8080/"
    },
    "id": "Ul1clh5Nzab5",
    "outputId": "09d764bf-5f20-4a0d-f97d-8e52fb29fb52"
   },
   "outputs": [
    {
     "data": {
      "text/plain": [
       "mobile_number         0.0\n",
       "arpu_6                0.0\n",
       "last_day_rch_amt_6    0.0\n",
       "max_rech_amt_8        0.0\n",
       "max_rech_amt_7        0.0\n",
       "                     ... \n",
       "std_og_mou_8          0.0\n",
       "std_og_mou_7          0.0\n",
       "std_og_mou_6          0.0\n",
       "std_og_t2f_mou_8      0.0\n",
       "churn                 0.0\n",
       "Length: 88, dtype: float64"
      ]
     },
     "execution_count": 17,
     "metadata": {},
     "output_type": "execute_result"
    }
   ],
   "source": [
    "# lets check the dataset again\n",
    "(telecom_hv_cust.isnull().sum() * 100 / len(telecom_hv_cust)).sort_values(ascending = False)"
   ]
  },
  {
   "cell_type": "markdown",
   "metadata": {
    "id": "R0F75p0kzab7"
   },
   "source": [
    "# Feature Engineering & EDA"
   ]
  },
  {
   "cell_type": "code",
   "execution_count": 18,
   "metadata": {
    "colab": {
     "base_uri": "https://localhost:8080/"
    },
    "id": "mGZbIw5bzab7",
    "outputId": "be6a2d0a-35a0-433c-85e1-23f78bb78b03"
   },
   "outputs": [
    {
     "name": "stdout",
     "output_type": "stream",
     "text": [
      "(28504, 88)\n"
     ]
    }
   ],
   "source": [
    "# create a new colulmn, which would be average  of 6th & 7th months\n",
    "# lets first create list of columns belonging to 6th and 7th months\n",
    "col_list = telecom_hv_cust.filter(regex='_6|_7').columns.str[:-2]\n",
    "col_list.unique()\n",
    "\n",
    "print (telecom_hv_cust.shape)\n",
    "\n",
    "# lets take the average now\n",
    "for idx, col in enumerate(col_list.unique()):\n",
    "    avg_col_name = \"avg_\"+col+\"_av67\" # lets create the column name dynamically\n",
    "    col_6 = col+\"_6\"\n",
    "    col_7 = col+\"_7\"\n",
    "    telecom_hv_cust[avg_col_name] = (telecom_hv_cust[col_6]  + telecom_hv_cust[col_7])/ 2\n",
    "\n"
   ]
  },
  {
   "cell_type": "code",
   "execution_count": 19,
   "metadata": {
    "colab": {
     "base_uri": "https://localhost:8080/"
    },
    "id": "If35djUuzab8",
    "outputId": "37fe4d76-c56d-406d-8103-fe2ce045af70"
   },
   "outputs": [
    {
     "name": "stdout",
     "output_type": "stream",
     "text": [
      "dimension of the updated dataset after creating dervied features: (28504, 115)\n",
      "dimension of the dataset after dropping un-necessary columns: (28504, 61)\n"
     ]
    }
   ],
   "source": [
    "# we dont need columns from which we have derived new features, we will drop those columns\n",
    "print (\"dimension of the updated dataset after creating dervied features:\",telecom_hv_cust.shape)\n",
    "col_to_drop = telecom_hv_cust.filter(regex='_6|_7').columns\n",
    "telecom_hv_cust.drop(col_to_drop, axis=1, inplace=True)\n",
    "\n",
    "print(\"dimension of the dataset after dropping un-necessary columns:\",telecom_hv_cust.shape)"
   ]
  },
  {
   "cell_type": "code",
   "execution_count": 20,
   "metadata": {
    "colab": {
     "base_uri": "https://localhost:8080/"
    },
    "id": "U0Y4zoBwzab8",
    "outputId": "472584cf-e5f8-4add-b3dd-b6f2ce3c98fe"
   },
   "outputs": [
    {
     "data": {
      "text/plain": [
       "7     26.733333\n",
       "8     10.500000\n",
       "21    24.000000\n",
       "23    20.133333\n",
       "33    44.266667\n",
       "Name: aon_mon, dtype: float64"
      ]
     },
     "execution_count": 20,
     "metadata": {},
     "output_type": "execute_result"
    }
   ],
   "source": [
    "# lets now conevrt AON in months\n",
    "telecom_hv_cust['aon_mon'] = telecom_hv_cust['aon']/30\n",
    "telecom_hv_cust.drop('aon', axis=1, inplace=True)\n",
    "telecom_hv_cust['aon_mon'].head()"
   ]
  },
  {
   "cell_type": "code",
   "execution_count": 21,
   "metadata": {
    "colab": {
     "base_uri": "https://localhost:8080/",
     "height": 312
    },
    "id": "O_2De6Ruzab9",
    "outputId": "70624b59-b704-4640-e2ea-9d4e60243bc1"
   },
   "outputs": [
    {
     "data": {
      "text/plain": [
       "Text(0.5, 1.0, 'Tenure Graph')"
      ]
     },
     "execution_count": 21,
     "metadata": {},
     "output_type": "execute_result"
    },
    {
     "data": {
      "image/png": "[encoded data removed]",
      "text/plain": [
       "<Figure size 432x288 with 1 Axes>"
      ]
     },
     "metadata": {
      "needs_background": "light"
     },
     "output_type": "display_data"
    }
   ],
   "source": [
    "ax = sns.distplot(telecom_hv_cust['aon_mon'], hist=True, kde=False, \n",
    "             bins=int(180/5), color = 'purple', \n",
    "             hist_kws={'edgecolor':'black'},\n",
    "             kde_kws={'linewidth': 10})\n",
    "ax.set_ylabel('No of Customers')\n",
    "ax.set_xlabel('Tenure in months')\n",
    "ax.set_title('Tenure Graph')\n",
    "# below graph simply shows the tenure of the customers"
   ]
  },
  {
   "cell_type": "code",
   "execution_count": 22,
   "metadata": {
    "colab": {
     "base_uri": "https://localhost:8080/"
    },
    "id": "JPt9L8XPzab9",
    "outputId": "76a7e7d7-4a53-4b5e-c1e0-53255fd10a3f"
   },
   "outputs": [
    {
     "data": {
      "text/plain": [
       "7         2-5 Yrs\n",
       "8     6-12 Months\n",
       "21        1-2 Yrs\n",
       "23        1-2 Yrs\n",
       "33        2-5 Yrs\n",
       "Name: tenure_range, dtype: category\n",
       "Categories (5, object): ['0-6 Months' < '6-12 Months' < '1-2 Yrs' < '2-5 Yrs' < '5 Yrs and above']"
      ]
     },
     "execution_count": 22,
     "metadata": {},
     "output_type": "execute_result"
    }
   ],
   "source": [
    "tn_range = [0, 6, 12, 24, 60, 61]\n",
    "tn_label = [ '0-6 Months', '6-12 Months', '1-2 Yrs', '2-5 Yrs', '5 Yrs and above']\n",
    "telecom_hv_cust['tenure_range'] = pd.cut(telecom_hv_cust['aon_mon'], tn_range, labels=tn_label)\n",
    "telecom_hv_cust['tenure_range'].head()"
   ]
  },
  {
   "cell_type": "code",
   "execution_count": 23,
   "metadata": {
    "colab": {
     "base_uri": "https://localhost:8080/",
     "height": 715
    },
    "id": "PboBJ8nIzab9",
    "outputId": "3877c807-caa0-4808-cba5-d0a2033e2dd2"
   },
   "outputs": [
    {
     "data": {
      "text/plain": [
       "<AxesSubplot:>"
      ]
     },
     "execution_count": 23,
     "metadata": {},
     "output_type": "execute_result"
    },
    {
     "data": {
      "image/png": "[encoded data removed]",
      "text/plain": [
       "<Figure size 1440x720 with 1 Axes>"
      ]
     },
     "metadata": {
      "needs_background": "light"
     },
     "output_type": "display_data"
    }
   ],
   "source": [
    "# lets check correlation of churn with other columns\n",
    "plt.figure(figsize=(20,10))\n",
    "telecom_hv_cust.corr()['churn'].sort_values(ascending = False).plot(kind='bar')\n",
    "\n",
    "# observations : \n",
    "# 1. Avg Outgoing Calls & calls on romaning for 6 & 7th months are positively correlated with churn. \n",
    "# 2. Avg Revenue, No. Of Recharge for 8th month has negative correlation with churn."
   ]
  },
  {
   "cell_type": "code",
   "execution_count": 24,
   "metadata": {
    "colab": {
     "base_uri": "https://localhost:8080/",
     "height": 300
    },
    "id": "z7veleSGzab-",
    "outputId": "6dd8d116-d05e-4bb7-e042-450df629e3cf"
   },
   "outputs": [
    {
     "data": {
      "text/plain": [
       "<AxesSubplot:xlabel='total_rech_num_8', ylabel='arpu_8'>"
      ]
     },
     "execution_count": 24,
     "metadata": {},
     "output_type": "execute_result"
    },
    {
     "data": {
      "image/png": "[encoded data removed]",
      "text/plain": [
       "<Figure size 432x288 with 1 Axes>"
      ]
     },
     "metadata": {
      "needs_background": "light"
     },
     "output_type": "display_data"
    }
   ],
   "source": [
    "# lets now draw a scatter plot between total recharge and avg revenue for the 8th month\n",
    "telecom_hv_cust[['total_rech_num_8', 'arpu_8']].plot.scatter(x = 'total_rech_num_8',\n",
    "                                                              y='arpu_8')"
   ]
  },
  {
   "cell_type": "code",
   "execution_count": 25,
   "metadata": {
    "colab": {
     "base_uri": "https://localhost:8080/",
     "height": 296
    },
    "id": "ieymYinvzab-",
    "outputId": "682d65b2-9ed1-4d45-e0ef-f2d78c36c1c2"
   },
   "outputs": [
    {
     "data": {
      "text/plain": [
       "<AxesSubplot:xlabel='aon_mon', ylabel='avg_arpu_av67'>"
      ]
     },
     "execution_count": 25,
     "metadata": {},
     "output_type": "execute_result"
    },
    {
     "data": {
      "image/png": "[encoded data removed]",
      "text/plain": [
       "<Figure size 432x288 with 1 Axes>"
      ]
     },
     "metadata": {
      "needs_background": "light"
     },
     "output_type": "display_data"
    }
   ],
   "source": [
    "# plot between tenure and revenue\n",
    "telecom_hv_cust[['aon_mon', 'avg_arpu_av67']].plot.scatter(x = 'aon_mon',\n",
    "                                                              y='avg_arpu_av67')"
   ]
  },
  {
   "cell_type": "markdown",
   "metadata": {
    "id": "7I8-PR-Lzab-"
   },
   "source": [
    "# Churn Vs other important features"
   ]
  },
  {
   "cell_type": "code",
   "execution_count": 26,
   "metadata": {
    "colab": {
     "base_uri": "https://localhost:8080/",
     "height": 296
    },
    "id": "26Mn8HrNzab-",
    "outputId": "2aa1d340-cf4d-42d1-affc-bdf6044c8c09"
   },
   "outputs": [
    {
     "data": {
      "text/plain": [
       "<AxesSubplot:xlabel='churn', ylabel='aon_mon'>"
      ]
     },
     "execution_count": 26,
     "metadata": {},
     "output_type": "execute_result"
    },
    {
     "data": {
      "image/png": "[encoded data removed]",
      "text/plain": [
       "<Figure size 432x288 with 1 Axes>"
      ]
     },
     "metadata": {
      "needs_background": "light"
     },
     "output_type": "display_data"
    }
   ],
   "source": [
    "sns.boxplot(x = telecom_hv_cust.churn, y = telecom_hv_cust.aon_mon)\n",
    "\n",
    "# from the below plot , its clear tenured customers do no churn and they keep availing telecom services"
   ]
  },
  {
   "cell_type": "code",
   "execution_count": 27,
   "metadata": {
    "colab": {
     "base_uri": "https://localhost:8080/",
     "height": 312
    },
    "id": "jCnMjnGKzab_",
    "outputId": "3e3abc74-e7f9-4dea-9f6f-574ea5c51c13"
   },
   "outputs": [
    {
     "data": {
      "text/plain": [
       "Text(0.5, 1.0, 'Churn Vs Base Cost')"
      ]
     },
     "execution_count": 27,
     "metadata": {},
     "output_type": "execute_result"
    },
    {
     "data": {
      "image/png": "[encoded data removed]",
      "text/plain": [
       "<Figure size 432x288 with 1 Axes>"
      ]
     },
     "metadata": {
      "needs_background": "light"
     },
     "output_type": "display_data"
    }
   ],
   "source": [
    "# churn Vs Base Cost\n",
    "ax = sns.kdeplot(telecom_hv_cust.avg_max_rech_amt_av67[(telecom_hv_cust[\"churn\"] == 0)],\n",
    "                color=\"Red\", shade = True)\n",
    "ax = sns.kdeplot(telecom_hv_cust.avg_max_rech_amt_av67[(telecom_hv_cust[\"churn\"] == 1)],\n",
    "                ax =ax, color=\"Green\", shade= True)\n",
    "ax.legend([\"No-Churn\",\"Churn\"],loc='upper right')\n",
    "ax.set_ylabel('Density')\n",
    "ax.set_xlabel('Volume based cost')\n",
    "ax.set_title('Churn Vs Base Cost')"
   ]
  },
  {
   "cell_type": "code",
   "execution_count": 28,
   "metadata": {
    "colab": {
     "base_uri": "https://localhost:8080/",
     "height": 312
    },
    "id": "OI5vtRHjzab_",
    "outputId": "07d7effd-6ad7-47ca-ae43-80d916d1eb0f"
   },
   "outputs": [
    {
     "data": {
      "text/plain": [
       "Text(0.5, 1.0, 'Distribution of Max Recharge Amount by churn')"
      ]
     },
     "execution_count": 28,
     "metadata": {},
     "output_type": "execute_result"
    },
    {
     "data": {
      "image/png": "[encoded data removed]",
      "text/plain": [
       "<Figure size 432x288 with 1 Axes>"
      ]
     },
     "metadata": {
      "needs_background": "light"
     },
     "output_type": "display_data"
    }
   ],
   "source": [
    "# churn vs max rechare amount\n",
    "ax = sns.kdeplot(telecom_hv_cust.max_rech_amt_8[(telecom_hv_cust[\"churn\"] == 0)],\n",
    "                color=\"Red\", shade = True)\n",
    "ax = sns.kdeplot(telecom_hv_cust.max_rech_amt_8[(telecom_hv_cust[\"churn\"] == 1)],\n",
    "                ax =ax, color=\"Blue\", shade= True)\n",
    "ax.legend([\"No-Churn\",\"Churn\"],loc='upper right')\n",
    "ax.set_ylabel('Density')\n",
    "ax.set_xlabel('Volume based cost')\n",
    "ax.set_title('Distribution of Max Recharge Amount by churn')"
   ]
  },
  {
   "cell_type": "code",
   "execution_count": 29,
   "metadata": {
    "colab": {
     "base_uri": "https://localhost:8080/",
     "height": 226
    },
    "id": "gw2OgY_kzab_",
    "outputId": "8cbdc600-69c2-49a3-8d59-6c3142f6211a"
   },
   "outputs": [
    {
     "data": {
      "text/html": [
       "<div>\n",
       "<style scoped>\n",
       "    .dataframe tbody tr th:only-of-type {\n",
       "        vertical-align: middle;\n",
       "    }\n",
       "\n",
       "    .dataframe tbody tr th {\n",
       "        vertical-align: top;\n",
       "    }\n",
       "\n",
       "    .dataframe thead th {\n",
       "        text-align: right;\n",
       "    }\n",
       "</style>\n",
       "<table border=\"1\" class=\"dataframe\">\n",
       "  <thead>\n",
       "    <tr style=\"text-align: right;\">\n",
       "      <th></th>\n",
       "      <th>arpu_8</th>\n",
       "      <th>onnet_mou_8</th>\n",
       "      <th>offnet_mou_8</th>\n",
       "      <th>roam_ic_mou_8</th>\n",
       "      <th>roam_og_mou_8</th>\n",
       "      <th>loc_og_t2c_mou_8</th>\n",
       "      <th>loc_og_mou_8</th>\n",
       "      <th>std_og_t2f_mou_8</th>\n",
       "      <th>std_og_mou_8</th>\n",
       "      <th>isd_og_mou_8</th>\n",
       "      <th>...</th>\n",
       "      <th>avg_ic_others_av67</th>\n",
       "      <th>avg_total_rech_num_av67</th>\n",
       "      <th>avg_max_rech_amt_av67</th>\n",
       "      <th>avg_last_day_rch_amt_av67</th>\n",
       "      <th>avg_vol_2g_mb_av67</th>\n",
       "      <th>avg_monthly_2g_av67</th>\n",
       "      <th>avg_sachet_2g_av67</th>\n",
       "      <th>avg_monthly_3g_av67</th>\n",
       "      <th>avg_sachet_3g_av67</th>\n",
       "      <th>aon_mon</th>\n",
       "    </tr>\n",
       "  </thead>\n",
       "  <tbody>\n",
       "    <tr>\n",
       "      <th>7</th>\n",
       "      <td>3171.480</td>\n",
       "      <td>52.29</td>\n",
       "      <td>325.91</td>\n",
       "      <td>31.64</td>\n",
       "      <td>38.06</td>\n",
       "      <td>0.00</td>\n",
       "      <td>255.79</td>\n",
       "      <td>16.68</td>\n",
       "      <td>77.84</td>\n",
       "      <td>10.01</td>\n",
       "      <td>...</td>\n",
       "      <td>15.465</td>\n",
       "      <td>5.0</td>\n",
       "      <td>1185.0</td>\n",
       "      <td>0.0</td>\n",
       "      <td>0.000</td>\n",
       "      <td>0.0</td>\n",
       "      <td>0.0</td>\n",
       "      <td>0.0</td>\n",
       "      <td>0.0</td>\n",
       "      <td>26.733333</td>\n",
       "    </tr>\n",
       "    <tr>\n",
       "      <th>8</th>\n",
       "      <td>137.362</td>\n",
       "      <td>35.08</td>\n",
       "      <td>136.48</td>\n",
       "      <td>0.00</td>\n",
       "      <td>0.00</td>\n",
       "      <td>7.15</td>\n",
       "      <td>63.04</td>\n",
       "      <td>0.00</td>\n",
       "      <td>98.28</td>\n",
       "      <td>0.00</td>\n",
       "      <td>...</td>\n",
       "      <td>0.000</td>\n",
       "      <td>20.0</td>\n",
       "      <td>122.0</td>\n",
       "      <td>25.0</td>\n",
       "      <td>178.000</td>\n",
       "      <td>0.5</td>\n",
       "      <td>0.5</td>\n",
       "      <td>0.0</td>\n",
       "      <td>0.0</td>\n",
       "      <td>10.500000</td>\n",
       "    </tr>\n",
       "    <tr>\n",
       "      <th>21</th>\n",
       "      <td>637.760</td>\n",
       "      <td>85.14</td>\n",
       "      <td>983.39</td>\n",
       "      <td>0.00</td>\n",
       "      <td>0.00</td>\n",
       "      <td>0.00</td>\n",
       "      <td>129.74</td>\n",
       "      <td>0.00</td>\n",
       "      <td>938.79</td>\n",
       "      <td>0.00</td>\n",
       "      <td>...</td>\n",
       "      <td>0.000</td>\n",
       "      <td>24.0</td>\n",
       "      <td>50.0</td>\n",
       "      <td>25.0</td>\n",
       "      <td>0.000</td>\n",
       "      <td>0.0</td>\n",
       "      <td>0.0</td>\n",
       "      <td>0.0</td>\n",
       "      <td>0.0</td>\n",
       "      <td>24.000000</td>\n",
       "    </tr>\n",
       "    <tr>\n",
       "      <th>23</th>\n",
       "      <td>366.966</td>\n",
       "      <td>33.58</td>\n",
       "      <td>205.89</td>\n",
       "      <td>0.00</td>\n",
       "      <td>0.00</td>\n",
       "      <td>17.71</td>\n",
       "      <td>182.14</td>\n",
       "      <td>0.00</td>\n",
       "      <td>39.61</td>\n",
       "      <td>0.00</td>\n",
       "      <td>...</td>\n",
       "      <td>2.675</td>\n",
       "      <td>4.0</td>\n",
       "      <td>89.5</td>\n",
       "      <td>89.5</td>\n",
       "      <td>0.240</td>\n",
       "      <td>0.0</td>\n",
       "      <td>0.0</td>\n",
       "      <td>1.0</td>\n",
       "      <td>0.0</td>\n",
       "      <td>20.133333</td>\n",
       "    </tr>\n",
       "    <tr>\n",
       "      <th>33</th>\n",
       "      <td>409.230</td>\n",
       "      <td>0.00</td>\n",
       "      <td>0.00</td>\n",
       "      <td>0.00</td>\n",
       "      <td>0.00</td>\n",
       "      <td>0.56</td>\n",
       "      <td>0.00</td>\n",
       "      <td>0.00</td>\n",
       "      <td>0.00</td>\n",
       "      <td>0.00</td>\n",
       "      <td>...</td>\n",
       "      <td>0.940</td>\n",
       "      <td>10.5</td>\n",
       "      <td>753.5</td>\n",
       "      <td>126.0</td>\n",
       "      <td>72.405</td>\n",
       "      <td>0.0</td>\n",
       "      <td>0.0</td>\n",
       "      <td>4.5</td>\n",
       "      <td>2.0</td>\n",
       "      <td>44.266667</td>\n",
       "    </tr>\n",
       "  </tbody>\n",
       "</table>\n",
       "<p>5 rows × 60 columns</p>\n",
       "</div>"
      ],
      "text/plain": [
       "      arpu_8  onnet_mou_8  offnet_mou_8  roam_ic_mou_8  roam_og_mou_8  \\\n",
       "7   3171.480        52.29        325.91          31.64          38.06   \n",
       "8    137.362        35.08        136.48           0.00           0.00   \n",
       "21   637.760        85.14        983.39           0.00           0.00   \n",
       "23   366.966        33.58        205.89           0.00           0.00   \n",
       "33   409.230         0.00          0.00           0.00           0.00   \n",
       "\n",
       "    loc_og_t2c_mou_8  loc_og_mou_8  std_og_t2f_mou_8  std_og_mou_8  \\\n",
       "7               0.00        255.79             16.68         77.84   \n",
       "8               7.15         63.04              0.00         98.28   \n",
       "21              0.00        129.74              0.00        938.79   \n",
       "23             17.71        182.14              0.00         39.61   \n",
       "33              0.56          0.00              0.00          0.00   \n",
       "\n",
       "    isd_og_mou_8  ...  avg_ic_others_av67  avg_total_rech_num_av67  \\\n",
       "7          10.01  ...              15.465                      5.0   \n",
       "8           0.00  ...               0.000                     20.0   \n",
       "21          0.00  ...               0.000                     24.0   \n",
       "23          0.00  ...               2.675                      4.0   \n",
       "33          0.00  ...               0.940                     10.5   \n",
       "\n",
       "    avg_max_rech_amt_av67  avg_last_day_rch_amt_av67  avg_vol_2g_mb_av67  \\\n",
       "7                  1185.0                        0.0               0.000   \n",
       "8                   122.0                       25.0             178.000   \n",
       "21                   50.0                       25.0               0.000   \n",
       "23                   89.5                       89.5               0.240   \n",
       "33                  753.5                      126.0              72.405   \n",
       "\n",
       "    avg_monthly_2g_av67  avg_sachet_2g_av67  avg_monthly_3g_av67  \\\n",
       "7                   0.0                 0.0                  0.0   \n",
       "8                   0.5                 0.5                  0.0   \n",
       "21                  0.0                 0.0                  0.0   \n",
       "23                  0.0                 0.0                  1.0   \n",
       "33                  0.0                 0.0                  4.5   \n",
       "\n",
       "    avg_sachet_3g_av67    aon_mon  \n",
       "7                  0.0  26.733333  \n",
       "8                  0.0  10.500000  \n",
       "21                 0.0  24.000000  \n",
       "23                 0.0  20.133333  \n",
       "33                 2.0  44.266667  \n",
       "\n",
       "[5 rows x 60 columns]"
      ]
     },
     "execution_count": 29,
     "metadata": {},
     "output_type": "execute_result"
    }
   ],
   "source": [
    "# we will create a new dataset for model building\n",
    "df = telecom_hv_cust[:].copy()\n",
    "\n",
    "# lets drop tenure range because it is highly correlated with AON MONTH column\n",
    "df.drop('tenure_range', axis=1, inplace=True)\n",
    "df.drop('mobile_number', axis=1, inplace=True)\n",
    "df.head()"
   ]
  },
  {
   "cell_type": "markdown",
   "metadata": {
    "id": "Ldn-xNhsLlg9"
   },
   "source": [
    "# Train Test Split"
   ]
  },
  {
   "cell_type": "code",
   "execution_count": 30,
   "metadata": {
    "id": "2BgMmJp6zab_"
   },
   "outputs": [],
   "source": [
    "# lets create X & y dataset for model building, X will obviously not have \"churn\" and y will only have \"churn\"\n",
    "X = df.drop(['churn'], axis=1)\n",
    "y = df['churn']\n",
    "\n",
    "df.drop('churn', axis=1, inplace=True)\n"
   ]
  },
  {
   "cell_type": "code",
   "execution_count": 31,
   "metadata": {
    "id": "hGR9BToKzab_"
   },
   "outputs": [],
   "source": [
    "# apply scaling on the dataset\n",
    "from sklearn import preprocessing\n",
    "from sklearn.preprocessing import StandardScaler\n",
    "\n",
    "scaler = preprocessing.StandardScaler().fit(X)\n",
    "X = scaler.transform(X)"
   ]
  },
  {
   "cell_type": "code",
   "execution_count": 32,
   "metadata": {
    "colab": {
     "base_uri": "https://localhost:8080/"
    },
    "id": "yoXpUBXjzacA",
    "outputId": "310efcee-1512-4dd9-85ba-b5ee8aae03c1",
    "scrolled": true
   },
   "outputs": [
    {
     "name": "stdout",
     "output_type": "stream",
     "text": [
      "Dimension of X_train: (19952, 59)\n",
      "Dimension of X_test: (8552, 59)\n"
     ]
    }
   ],
   "source": [
    "# split the dateset into train and test datasets\n",
    "from sklearn.model_selection import train_test_split\n",
    "\n",
    "X_train, X_test, y_train, y_test = train_test_split(X, y, test_size=0.3, train_size=0.7, random_state=1)\n",
    "print(\"Dimension of X_train:\", X_train.shape)\n",
    "print(\"Dimension of X_test:\", X_test.shape)"
   ]
  },
  {
   "cell_type": "code",
   "execution_count": 33,
   "metadata": {
    "id": "N6u-cBzczacA"
   },
   "outputs": [],
   "source": [
    "# As discussed earlier, given dataset is skewed, lets balance the dataset\n",
    "from imblearn.over_sampling import SMOTE\n",
    "\n",
    "sm = SMOTE()\n",
    "X_tr,y_tr = sm.fit_resample(X_train,y_train)"
   ]
  },
  {
   "cell_type": "code",
   "execution_count": 34,
   "metadata": {
    "colab": {
     "base_uri": "https://localhost:8080/"
    },
    "id": "dvZV6NyKzacA",
    "outputId": "a230efe8-9193-440b-e1c8-6ace0f71013a"
   },
   "outputs": [
    {
     "name": "stdout",
     "output_type": "stream",
     "text": [
      "Dimension of X_tr Shape: (37666, 59)\n",
      "Dimension of y_tr Shape: (37666,)\n",
      "Imbalance in Training dataset: 1.0\n"
     ]
    }
   ],
   "source": [
    "print(\"Dimension of X_tr Shape:\", X_tr.shape)\n",
    "print(\"Dimension of y_tr Shape:\", y_tr.shape)\n",
    "\n",
    "print(\"Imbalance in Training dataset:\",(y_tr != 0).sum()/(y_tr == 0).sum())"
   ]
  },
  {
   "cell_type": "code",
   "execution_count": 35,
   "metadata": {
    "id": "Kn3MPEkmzacB"
   },
   "outputs": [],
   "source": [
    "# we will now using RFE for feature reduction\n",
    "from sklearn.linear_model import LogisticRegression\n",
    "lr = LogisticRegression()\n",
    "from sklearn.feature_selection import RFE\n",
    "\n",
    "# lets RFE select 15 most imp features for us\n",
    "rfe = RFE(lr)   \n",
    "rfe = rfe.fit(X_tr, y_tr)"
   ]
  },
  {
   "cell_type": "code",
   "execution_count": 36,
   "metadata": {
    "colab": {
     "base_uri": "https://localhost:8080/"
    },
    "id": "fw0myl_5zacB",
    "outputId": "67b7c656-e5de-44a1-f79a-8c4b8df089e5"
   },
   "outputs": [
    {
     "name": "stdout",
     "output_type": "stream",
     "text": [
      "15 most important features selected by RFE  ['onnet_mou_8', 'offnet_mou_8', 'roam_og_mou_8', 'loc_og_mou_8', 'isd_og_mou_8', 'loc_ic_mou_8', 'std_ic_t2t_mou_8', 'std_ic_mou_8', 'spl_ic_mou_8', 'total_rech_num_8', 'max_rech_amt_8', 'last_day_rch_amt_8', 'vol_2g_mb_8', 'monthly_2g_8', 'sachet_2g_8', 'monthly_3g_8', 'sep_vbc_3g', 'avg_onnet_mou_av67', 'avg_offnet_mou_av67', 'avg_loc_og_mou_av67', 'avg_std_og_mou_av67', 'avg_isd_og_mou_av67', 'avg_loc_ic_mou_av67', 'avg_std_ic_mou_av67', 'avg_ic_others_av67', 'avg_total_rech_num_av67', 'avg_vol_2g_mb_av67', 'avg_monthly_2g_av67', 'aon_mon']\n"
     ]
    }
   ],
   "source": [
    "rfe_features = list(df.columns[rfe.support_])\n",
    "print(\"15 most important features selected by RFE \", rfe_features)"
   ]
  },
  {
   "cell_type": "code",
   "execution_count": 37,
   "metadata": {
    "id": "BrUEk8Q_zacB"
   },
   "outputs": [],
   "source": [
    "X_rfe = pd.DataFrame(data=X_tr).iloc[:, rfe.support_]\n",
    "y_rfe = y_tr"
   ]
  },
  {
   "cell_type": "code",
   "execution_count": 38,
   "metadata": {
    "colab": {
     "base_uri": "https://localhost:8080/"
    },
    "id": "YoCAVjs7zacB",
    "outputId": "baa2556b-0708-42a8-d39a-b1e476c66081"
   },
   "outputs": [
    {
     "data": {
      "text/plain": [
       "LogisticRegression(random_state=1)"
      ]
     },
     "execution_count": 38,
     "metadata": {},
     "output_type": "execute_result"
    }
   ],
   "source": [
    "# lets create a Logisctic Regression model on the seleted columns by RFE\n",
    "from sklearn.linear_model import LogisticRegression\n",
    "lr = LogisticRegression(random_state=1)\n",
    "lr.fit(X_rfe, y_rfe)"
   ]
  },
  {
   "cell_type": "code",
   "execution_count": 39,
   "metadata": {
    "colab": {
     "base_uri": "https://localhost:8080/"
    },
    "id": "rbWNXVfPzacB",
    "outputId": "7230ab91-11d7-4e0a-f365-72911be93b30"
   },
   "outputs": [
    {
     "name": "stdout",
     "output_type": "stream",
     "text": [
      "[[6479 1596]\n",
      " [  93  384]]\n",
      "Accuracy on the test dataset: 0.8025023386342376\n"
     ]
    }
   ],
   "source": [
    "X_test_rfe = pd.DataFrame(data=X_test).iloc[:, rfe.support_]\n",
    "\n",
    "y_pred = lr.predict(X_test_rfe)\n",
    "\n",
    "from sklearn.metrics import confusion_matrix\n",
    "confusion_matrix = confusion_matrix(y_test, y_pred)\n",
    "print(confusion_matrix)\n",
    "print('Accuracy on the test dataset:',lr.score(X_test_rfe, y_test))"
   ]
  },
  {
   "cell_type": "code",
   "execution_count": 40,
   "metadata": {
    "colab": {
     "base_uri": "https://localhost:8080/"
    },
    "id": "ae_OzMO-zacC",
    "outputId": "355820da-ad93-4191-f788-a8c5125abac3"
   },
   "outputs": [
    {
     "name": "stdout",
     "output_type": "stream",
     "text": [
      "              precision    recall  f1-score   support\n",
      "\n",
      "           0       0.99      0.80      0.88      8075\n",
      "           1       0.19      0.81      0.31       477\n",
      "\n",
      "    accuracy                           0.80      8552\n",
      "   macro avg       0.59      0.80      0.60      8552\n",
      "weighted avg       0.94      0.80      0.85      8552\n",
      "\n"
     ]
    }
   ],
   "source": [
    "# lets check classification report on the test dataset\n",
    "from sklearn.metrics import classification_report\n",
    "print(classification_report(y_test, y_pred))"
   ]
  },
  {
   "cell_type": "markdown",
   "metadata": {
    "id": "WztcLysjzacC"
   },
   "source": [
    "Conclusion from the above model:\n",
    "\n",
    "Model Accuracy is approx 80%\n",
    "Confusion matix shows high false positive rate, which is not good, lets try PCA now."
   ]
  },
  {
   "cell_type": "markdown",
   "metadata": {
    "id": "XNUdGFcLzacC"
   },
   "source": [
    "# PCA"
   ]
  },
  {
   "cell_type": "code",
   "execution_count": 41,
   "metadata": {
    "colab": {
     "base_uri": "https://localhost:8080/"
    },
    "id": "qpMRBwk_zacC",
    "outputId": "0817dd1e-e284-49ee-ef82-d6960fbbca5c"
   },
   "outputs": [
    {
     "name": "stdout",
     "output_type": "stream",
     "text": [
      "(37666, 59)\n",
      "(37666,)\n"
     ]
    }
   ],
   "source": [
    "# PCA\n",
    "X_train, X_test, y_train, y_test = train_test_split(X, y, test_size=0.3, train_size=0.7, random_state=1)\n",
    "\n",
    "# apply SMOTE to correct class imbalance\n",
    "from imblearn.over_sampling import SMOTE\n",
    "sm = SMOTE()\n",
    "X_tr,y_tr = sm.fit_resample(X_train,y_train)\n",
    "print(X_tr.shape)\n",
    "print(y_tr.shape)\n"
   ]
  },
  {
   "cell_type": "code",
   "execution_count": 42,
   "metadata": {
    "colab": {
     "base_uri": "https://localhost:8080/"
    },
    "id": "zGGyNYnDzacD",
    "outputId": "0936c275-cab3-4f24-c893-f8b64e6ee821"
   },
   "outputs": [
    {
     "data": {
      "text/plain": [
       "PCA(random_state=100)"
      ]
     },
     "execution_count": 42,
     "metadata": {},
     "output_type": "execute_result"
    }
   ],
   "source": [
    "# import PCA\n",
    "from sklearn.decomposition import PCA\n",
    "pca = PCA(random_state=100)\n",
    "\n",
    "# apply PCA on train data\n",
    "pca.fit(X_tr)"
   ]
  },
  {
   "cell_type": "code",
   "execution_count": 43,
   "metadata": {
    "colab": {
     "base_uri": "https://localhost:8080/"
    },
    "id": "dgoYts_GzacD",
    "outputId": "79c9a6de-8f45-4264-aae0-c802b368e695"
   },
   "outputs": [
    {
     "name": "stdout",
     "output_type": "stream",
     "text": [
      "(37666, 59)\n",
      "(8552, 59)\n"
     ]
    }
   ],
   "source": [
    "X_tr_pca = pca.fit_transform(X_tr)\n",
    "print(X_tr_pca.shape)\n",
    "\n",
    "X_test_pca = pca.transform(X_test)\n",
    "print(X_test_pca.shape)"
   ]
  },
  {
   "cell_type": "code",
   "execution_count": 44,
   "metadata": {
    "id": "NxfmOuP3zacD"
   },
   "outputs": [],
   "source": [
    "from sklearn.linear_model import LogisticRegression\n",
    "from sklearn import metrics\n",
    "lr_pca = LogisticRegression(C=1e9)\n",
    "lr_pca.fit(X_tr_pca, y_tr)\n",
    "\n",
    "# make the predictions\n",
    "y_pred = lr_pca.predict(X_test_pca)\n",
    "\n",
    "# convert prediction array into a dataframe\n",
    "y_pred_df = pd.DataFrame(y_pred)"
   ]
  },
  {
   "cell_type": "code",
   "execution_count": 45,
   "metadata": {
    "colab": {
     "base_uri": "https://localhost:8080/"
    },
    "id": "ZwPW-UJPzacD",
    "outputId": "678e7e6a-062f-4127-a488-cbf923a5455b"
   },
   "outputs": [
    {
     "name": "stdout",
     "output_type": "stream",
     "text": [
      "[[6497 1578]\n",
      " [  97  380]]\n",
      "Accuracy of the logistic regression model with PCA:  0.8041393826005613\n"
     ]
    }
   ],
   "source": [
    "from sklearn.metrics import classification_report, confusion_matrix, accuracy_score\n",
    "\n",
    "# Printing confusion matrix\n",
    "print(confusion_matrix(y_test,y_pred))\n",
    "print(\"Accuracy of the logistic regression model with PCA: \",accuracy_score(y_test,y_pred))"
   ]
  },
  {
   "cell_type": "code",
   "execution_count": 46,
   "metadata": {
    "colab": {
     "base_uri": "https://localhost:8080/",
     "height": 363
    },
    "id": "t9kf6LFDzacE",
    "outputId": "25618168-d12a-47b2-dce2-d92c7017b141"
   },
   "outputs": [
    {
     "data": {
      "text/html": [
       "<div>\n",
       "<style scoped>\n",
       "    .dataframe tbody tr th:only-of-type {\n",
       "        vertical-align: middle;\n",
       "    }\n",
       "\n",
       "    .dataframe tbody tr th {\n",
       "        vertical-align: top;\n",
       "    }\n",
       "\n",
       "    .dataframe thead th {\n",
       "        text-align: right;\n",
       "    }\n",
       "</style>\n",
       "<table border=\"1\" class=\"dataframe\">\n",
       "  <thead>\n",
       "    <tr style=\"text-align: right;\">\n",
       "      <th></th>\n",
       "      <th>PC-1</th>\n",
       "      <th>PC-2</th>\n",
       "      <th>PC-3</th>\n",
       "      <th>Feature</th>\n",
       "    </tr>\n",
       "  </thead>\n",
       "  <tbody>\n",
       "    <tr>\n",
       "      <th>0</th>\n",
       "      <td>0.155921</td>\n",
       "      <td>0.269145</td>\n",
       "      <td>0.140473</td>\n",
       "      <td>arpu_8</td>\n",
       "    </tr>\n",
       "    <tr>\n",
       "      <th>1</th>\n",
       "      <td>0.057037</td>\n",
       "      <td>0.207173</td>\n",
       "      <td>-0.091049</td>\n",
       "      <td>onnet_mou_8</td>\n",
       "    </tr>\n",
       "    <tr>\n",
       "      <th>2</th>\n",
       "      <td>0.101735</td>\n",
       "      <td>0.239552</td>\n",
       "      <td>-0.000097</td>\n",
       "      <td>offnet_mou_8</td>\n",
       "    </tr>\n",
       "    <tr>\n",
       "      <th>3</th>\n",
       "      <td>0.434714</td>\n",
       "      <td>-0.176010</td>\n",
       "      <td>-0.053388</td>\n",
       "      <td>roam_ic_mou_8</td>\n",
       "    </tr>\n",
       "    <tr>\n",
       "      <th>4</th>\n",
       "      <td>0.374939</td>\n",
       "      <td>-0.073459</td>\n",
       "      <td>-0.067725</td>\n",
       "      <td>roam_og_mou_8</td>\n",
       "    </tr>\n",
       "    <tr>\n",
       "      <th>5</th>\n",
       "      <td>0.012619</td>\n",
       "      <td>0.072643</td>\n",
       "      <td>-0.039023</td>\n",
       "      <td>loc_og_t2c_mou_8</td>\n",
       "    </tr>\n",
       "    <tr>\n",
       "      <th>6</th>\n",
       "      <td>0.021843</td>\n",
       "      <td>0.158794</td>\n",
       "      <td>0.147662</td>\n",
       "      <td>loc_og_mou_8</td>\n",
       "    </tr>\n",
       "    <tr>\n",
       "      <th>7</th>\n",
       "      <td>0.024505</td>\n",
       "      <td>0.039378</td>\n",
       "      <td>0.079571</td>\n",
       "      <td>std_og_t2f_mou_8</td>\n",
       "    </tr>\n",
       "    <tr>\n",
       "      <th>8</th>\n",
       "      <td>0.042611</td>\n",
       "      <td>0.252677</td>\n",
       "      <td>-0.150593</td>\n",
       "      <td>std_og_mou_8</td>\n",
       "    </tr>\n",
       "    <tr>\n",
       "      <th>9</th>\n",
       "      <td>0.038924</td>\n",
       "      <td>0.099163</td>\n",
       "      <td>0.087010</td>\n",
       "      <td>isd_og_mou_8</td>\n",
       "    </tr>\n",
       "  </tbody>\n",
       "</table>\n",
       "</div>"
      ],
      "text/plain": [
       "       PC-1      PC-2      PC-3           Feature\n",
       "0  0.155921  0.269145  0.140473            arpu_8\n",
       "1  0.057037  0.207173 -0.091049       onnet_mou_8\n",
       "2  0.101735  0.239552 -0.000097      offnet_mou_8\n",
       "3  0.434714 -0.176010 -0.053388     roam_ic_mou_8\n",
       "4  0.374939 -0.073459 -0.067725     roam_og_mou_8\n",
       "5  0.012619  0.072643 -0.039023  loc_og_t2c_mou_8\n",
       "6  0.021843  0.158794  0.147662      loc_og_mou_8\n",
       "7  0.024505  0.039378  0.079571  std_og_t2f_mou_8\n",
       "8  0.042611  0.252677 -0.150593      std_og_mou_8\n",
       "9  0.038924  0.099163  0.087010      isd_og_mou_8"
      ]
     },
     "execution_count": 46,
     "metadata": {},
     "output_type": "execute_result"
    }
   ],
   "source": [
    "col = list(df.columns)\n",
    "df_pca = pd.DataFrame({'PC-1':pca.components_[0],'PC-2':pca.components_[1], 'PC-3':pca.components_[2],'Feature':col})\n",
    "df_pca.head(10)"
   ]
  },
  {
   "cell_type": "code",
   "execution_count": 47,
   "metadata": {
    "colab": {
     "base_uri": "https://localhost:8080/",
     "height": 497
    },
    "id": "4-lCGFYJzacE",
    "outputId": "8c9df648-2f80-45c6-ce99-bfccd8a8be67"
   },
   "outputs": [
    {
     "data": {
      "image/png": "[encoded data removed]",
      "text/plain": [
       "<Figure size 864x576 with 1 Axes>"
      ]
     },
     "metadata": {
      "needs_background": "light"
     },
     "output_type": "display_data"
    }
   ],
   "source": [
    "# scree plot to check the variance explained by different PCAs\n",
    "fig = plt.figure(figsize = (12,8))\n",
    "plt.plot(np.cumsum(pca.explained_variance_ratio_))\n",
    "plt.xlabel('no of principal components')\n",
    "plt.ylabel('explained variance - cumulative')\n",
    "plt.show()"
   ]
  },
  {
   "cell_type": "code",
   "execution_count": 48,
   "metadata": {
    "colab": {
     "base_uri": "https://localhost:8080/"
    },
    "id": "sVuq1xtezacE",
    "outputId": "5ab85dbb-5ff6-4655-a33f-37d1ed33b40f"
   },
   "outputs": [
    {
     "data": {
      "text/plain": [
       "array([ 11.32,  19.84,  27.37,  33.6 ,  38.11,  42.54,  46.16,  49.72,\n",
       "        52.98,  55.91,  58.58,  61.14,  63.63,  65.91,  68.08,  70.21,\n",
       "        72.17,  73.96,  75.49,  76.93,  78.32,  79.65,  80.89,  82.08,\n",
       "        83.25,  84.39,  85.51,  86.6 ,  87.61,  88.49,  89.36,  90.22,\n",
       "        90.99,  91.64,  92.28,  92.9 ,  93.46,  94.  ,  94.53,  95.05,\n",
       "        95.49,  95.93,  96.36,  96.76,  97.14,  97.5 ,  97.85,  98.18,\n",
       "        98.5 ,  98.77,  99.03,  99.27,  99.49,  99.66,  99.82,  99.95,\n",
       "       100.  , 100.  , 100.  ])"
      ]
     },
     "execution_count": 48,
     "metadata": {},
     "output_type": "execute_result"
    }
   ],
   "source": [
    "np.cumsum(np.round(pca.explained_variance_ratio_, decimals=4)*100)\n",
    "# 33 columns explains 90% of the variance, lets apply PCA with 33 components"
   ]
  },
  {
   "cell_type": "code",
   "execution_count": 49,
   "metadata": {
    "colab": {
     "base_uri": "https://localhost:8080/"
    },
    "id": "gLsNvjD_zacE",
    "outputId": "07270dda-d777-48bf-fbb0-c05bf5c76201"
   },
   "outputs": [
    {
     "name": "stdout",
     "output_type": "stream",
     "text": [
      "(37666, 33)\n",
      "(8552, 33)\n"
     ]
    }
   ],
   "source": [
    "# PCA with 33 components\n",
    "pca_33 = PCA(n_components=33)\n",
    "\n",
    "df_tr_pca_33 = pca_33.fit_transform(X_tr)\n",
    "print(df_tr_pca_33.shape)\n",
    "\n",
    "df_test_pca_33 = pca_33.transform(X_test)\n",
    "print(df_test_pca_33.shape)"
   ]
  },
  {
   "cell_type": "code",
   "execution_count": 50,
   "metadata": {
    "colab": {
     "base_uri": "https://localhost:8080/"
    },
    "id": "2YEMWRsHzacE",
    "outputId": "87d661c1-90c7-4b2c-f350-aa0c4b15d377"
   },
   "outputs": [
    {
     "name": "stdout",
     "output_type": "stream",
     "text": [
      "Accuracy with 33 PCAs:  0.8008652946679139\n"
     ]
    }
   ],
   "source": [
    "# Let's run the model using the selected variables\n",
    "from sklearn.linear_model import LogisticRegression\n",
    "from sklearn import metrics\n",
    "lr_pca1 = LogisticRegression(C=1e9)\n",
    "lr_pca1.fit(df_tr_pca_33, y_tr)\n",
    "\n",
    "# Predicted probabilities\n",
    "y_pred33 = lr_pca1.predict(df_test_pca_33)\n",
    "\n",
    "# Converting y_pred to a dataframe which is an array\n",
    "df_y_pred = pd.DataFrame(y_pred33)\n",
    "\n",
    "print(\"Accuracy with 33 PCAs: \",accuracy_score(y_test,y_pred33))"
   ]
  },
  {
   "cell_type": "code",
   "execution_count": 51,
   "metadata": {
    "colab": {
     "base_uri": "https://localhost:8080/"
    },
    "id": "Owg-jYudzacF",
    "outputId": "06c0891a-7487-4ef4-e398-dacfc1eff1b3"
   },
   "outputs": [
    {
     "name": "stdout",
     "output_type": "stream",
     "text": [
      "[[6477 1598]\n",
      " [ 105  372]]\n"
     ]
    }
   ],
   "source": [
    "print(confusion_matrix(y_test,y_pred33))"
   ]
  },
  {
   "cell_type": "markdown",
   "metadata": {
    "id": "xSzKtxhgzacF"
   },
   "source": [
    "Conclusions from the above model:\n",
    "\n",
    "Model has 80% Accuracy\n",
    "33 features can explain 90% variance in the dataset\n",
    "most imp features: arpu_8,onnet_mou_8,offnet_mou_8,roam_ic_mou_8,roam_og_mou_8"
   ]
  },
  {
   "cell_type": "markdown",
   "metadata": {
    "id": "IIzsHk6YKAC-"
   },
   "source": [
    "# Class Imbalance"
   ]
  },
  {
   "cell_type": "code",
   "execution_count": 52,
   "metadata": {
    "colab": {
     "base_uri": "https://localhost:8080/"
    },
    "id": "PcFomAi-zacF",
    "outputId": "6b3b1f4d-e014-41a6-9479-025b7b99ee34"
   },
   "outputs": [
    {
     "name": "stdout",
     "output_type": "stream",
     "text": [
      "(37666, 59)\n",
      "(37666,)\n"
     ]
    }
   ],
   "source": [
    "# lets create a decision tree now\n",
    "X_train, X_test, y_train, y_test = train_test_split(X, y, test_size=0.3, train_size=0.7, random_state=1)\n",
    "\n",
    "# apply SMOTE to tackle class imbalance\n",
    "from imblearn.over_sampling import SMOTE\n",
    "sm = SMOTE()\n",
    "X_tr,y_tr = sm.fit_resample(X_train,y_train)\n",
    "print(X_tr.shape)\n",
    "print(y_tr.shape)"
   ]
  },
  {
   "cell_type": "markdown",
   "metadata": {
    "id": "_QQmmidizacF"
   },
   "source": [
    "# Decision Tree"
   ]
  },
  {
   "cell_type": "code",
   "execution_count": 53,
   "metadata": {
    "colab": {
     "base_uri": "https://localhost:8080/"
    },
    "id": "vR9ksDiVzacG",
    "outputId": "fe85c021-add8-4956-e5f5-de1643416519"
   },
   "outputs": [
    {
     "data": {
      "text/plain": [
       "DecisionTreeClassifier(max_depth=5)"
      ]
     },
     "execution_count": 53,
     "metadata": {},
     "output_type": "execute_result"
    }
   ],
   "source": [
    "# import decision tree libraries\n",
    "from sklearn.tree import DecisionTreeClassifier\n",
    "from sklearn import tree\n",
    "\n",
    "# lets create a decision tree with the default hyper parameters except max depth to make the tree readable\n",
    "dt1 = DecisionTreeClassifier(max_depth=5)\n",
    "dt1.fit(X_tr, y_tr)"
   ]
  },
  {
   "cell_type": "code",
   "execution_count": 54,
   "metadata": {
    "colab": {
     "base_uri": "https://localhost:8080/"
    },
    "id": "MEiTGho_zacG",
    "outputId": "07b0a67d-8856-42f9-d237-e6b28e9f30b7"
   },
   "outputs": [
    {
     "name": "stdout",
     "output_type": "stream",
     "text": [
      "              precision    recall  f1-score   support\n",
      "\n",
      "           0       0.98      0.86      0.91      8075\n",
      "           1       0.22      0.69      0.34       477\n",
      "\n",
      "    accuracy                           0.85      8552\n",
      "   macro avg       0.60      0.78      0.63      8552\n",
      "weighted avg       0.94      0.85      0.88      8552\n",
      "\n"
     ]
    }
   ],
   "source": [
    "# lets see the classification reort of the model built\n",
    "from sklearn.metrics import classification_report, confusion_matrix, accuracy_score\n",
    "\n",
    "# Model predictions\n",
    "X_test = pd.DataFrame(data=X_test)\n",
    "y_pred1 = dt1.predict(X_test)\n",
    "\n",
    "# classification report\n",
    "print(classification_report(y_test, y_pred1))"
   ]
  },
  {
   "cell_type": "code",
   "execution_count": 55,
   "metadata": {
    "colab": {
     "base_uri": "https://localhost:8080/"
    },
    "id": "mPP6Zr8kzacG",
    "outputId": "101eb9f9-8681-4a07-c2a2-5da9acd6f2d3"
   },
   "outputs": [
    {
     "name": "stdout",
     "output_type": "stream",
     "text": [
      "[[6915 1160]\n",
      " [ 146  331]]\n",
      "Decision Tree - Accuracy : 0.8472871842843779\n"
     ]
    }
   ],
   "source": [
    "# confusion matrix\n",
    "print(confusion_matrix(y_test,y_pred1))\n",
    "# accuracy of the decision tree\n",
    "print('Decision Tree - Accuracy :',accuracy_score(y_test,y_pred1))"
   ]
  },
  {
   "cell_type": "markdown",
   "metadata": {
    "id": "pCY7OctgzacG"
   },
   "source": [
    "# Hyperparameters Tuning"
   ]
  },
  {
   "cell_type": "code",
   "execution_count": 56,
   "metadata": {
    "colab": {
     "base_uri": "https://localhost:8080/"
    },
    "id": "MYI2j02fzacH",
    "outputId": "1721388a-1076-400c-a6fe-732b8a3c677a"
   },
   "outputs": [
    {
     "data": {
      "text/plain": [
       "GridSearchCV(cv=5, estimator=DecisionTreeClassifier(random_state=100),\n",
       "             n_jobs=-1, param_grid={'max_depth': range(1, 40)},\n",
       "             return_train_score=True, scoring='accuracy')"
      ]
     },
     "execution_count": 56,
     "metadata": {},
     "output_type": "execute_result"
    }
   ],
   "source": [
    "# GridSearchCV to find optimal max_depth\n",
    "from sklearn.model_selection import KFold\n",
    "from sklearn.model_selection import GridSearchCV\n",
    "\n",
    "\n",
    "# specify number of folds for k-fold CV\n",
    "n_folds = 5\n",
    "\n",
    "# parameters to build the model on\n",
    "parameters = {'max_depth': range(1, 40)}\n",
    "\n",
    "# instantiate the model\n",
    "dtree = DecisionTreeClassifier(criterion = \"gini\", \n",
    "                               random_state = 100)\n",
    "                               \n",
    "# fit tree on training data\n",
    "tree = GridSearchCV(dtree, parameters, \n",
    "                    cv=n_folds, \n",
    "                   scoring=\"accuracy\",\n",
    "                    n_jobs = -1,\n",
    "                   return_train_score=True)\n",
    "tree.fit(X_tr, y_tr)"
   ]
  },
  {
   "cell_type": "code",
   "execution_count": 57,
   "metadata": {
    "colab": {
     "base_uri": "https://localhost:8080/",
     "height": 313
    },
    "id": "Z1ZTEAuHzacH",
    "outputId": "89232cbd-6f85-439b-de83-27e8745425da"
   },
   "outputs": [
    {
     "data": {
      "text/html": [
       "<div>\n",
       "<style scoped>\n",
       "    .dataframe tbody tr th:only-of-type {\n",
       "        vertical-align: middle;\n",
       "    }\n",
       "\n",
       "    .dataframe tbody tr th {\n",
       "        vertical-align: top;\n",
       "    }\n",
       "\n",
       "    .dataframe thead th {\n",
       "        text-align: right;\n",
       "    }\n",
       "</style>\n",
       "<table border=\"1\" class=\"dataframe\">\n",
       "  <thead>\n",
       "    <tr style=\"text-align: right;\">\n",
       "      <th></th>\n",
       "      <th>mean_fit_time</th>\n",
       "      <th>std_fit_time</th>\n",
       "      <th>mean_score_time</th>\n",
       "      <th>std_score_time</th>\n",
       "      <th>param_max_depth</th>\n",
       "      <th>params</th>\n",
       "      <th>split0_test_score</th>\n",
       "      <th>split1_test_score</th>\n",
       "      <th>split2_test_score</th>\n",
       "      <th>split3_test_score</th>\n",
       "      <th>...</th>\n",
       "      <th>mean_test_score</th>\n",
       "      <th>std_test_score</th>\n",
       "      <th>rank_test_score</th>\n",
       "      <th>split0_train_score</th>\n",
       "      <th>split1_train_score</th>\n",
       "      <th>split2_train_score</th>\n",
       "      <th>split3_train_score</th>\n",
       "      <th>split4_train_score</th>\n",
       "      <th>mean_train_score</th>\n",
       "      <th>std_train_score</th>\n",
       "    </tr>\n",
       "  </thead>\n",
       "  <tbody>\n",
       "    <tr>\n",
       "      <th>0</th>\n",
       "      <td>0.650020</td>\n",
       "      <td>0.061483</td>\n",
       "      <td>0.011569</td>\n",
       "      <td>0.003253</td>\n",
       "      <td>1</td>\n",
       "      <td>{'max_depth': 1}</td>\n",
       "      <td>0.771436</td>\n",
       "      <td>0.791849</td>\n",
       "      <td>0.806452</td>\n",
       "      <td>0.804460</td>\n",
       "      <td>...</td>\n",
       "      <td>0.795227</td>\n",
       "      <td>0.012913</td>\n",
       "      <td>39</td>\n",
       "      <td>0.801175</td>\n",
       "      <td>0.796104</td>\n",
       "      <td>0.792453</td>\n",
       "      <td>0.792951</td>\n",
       "      <td>0.793582</td>\n",
       "      <td>0.795253</td>\n",
       "      <td>0.003216</td>\n",
       "    </tr>\n",
       "    <tr>\n",
       "      <th>1</th>\n",
       "      <td>1.077366</td>\n",
       "      <td>0.038788</td>\n",
       "      <td>0.009236</td>\n",
       "      <td>0.005892</td>\n",
       "      <td>2</td>\n",
       "      <td>{'max_depth': 2}</td>\n",
       "      <td>0.808468</td>\n",
       "      <td>0.817204</td>\n",
       "      <td>0.824904</td>\n",
       "      <td>0.828488</td>\n",
       "      <td>...</td>\n",
       "      <td>0.820767</td>\n",
       "      <td>0.007165</td>\n",
       "      <td>38</td>\n",
       "      <td>0.829384</td>\n",
       "      <td>0.824113</td>\n",
       "      <td>0.820960</td>\n",
       "      <td>0.821060</td>\n",
       "      <td>0.820629</td>\n",
       "      <td>0.823229</td>\n",
       "      <td>0.003325</td>\n",
       "    </tr>\n",
       "    <tr>\n",
       "      <th>2</th>\n",
       "      <td>1.301967</td>\n",
       "      <td>0.073212</td>\n",
       "      <td>0.009374</td>\n",
       "      <td>0.007654</td>\n",
       "      <td>3</td>\n",
       "      <td>{'max_depth': 3}</td>\n",
       "      <td>0.816830</td>\n",
       "      <td>0.833931</td>\n",
       "      <td>0.848268</td>\n",
       "      <td>0.850790</td>\n",
       "      <td>...</td>\n",
       "      <td>0.839511</td>\n",
       "      <td>0.012784</td>\n",
       "      <td>37</td>\n",
       "      <td>0.844418</td>\n",
       "      <td>0.845883</td>\n",
       "      <td>0.838383</td>\n",
       "      <td>0.841635</td>\n",
       "      <td>0.842133</td>\n",
       "      <td>0.842491</td>\n",
       "      <td>0.002567</td>\n",
       "    </tr>\n",
       "    <tr>\n",
       "      <th>3</th>\n",
       "      <td>1.571143</td>\n",
       "      <td>0.097811</td>\n",
       "      <td>0.010053</td>\n",
       "      <td>0.003545</td>\n",
       "      <td>4</td>\n",
       "      <td>{'max_depth': 4}</td>\n",
       "      <td>0.831431</td>\n",
       "      <td>0.844949</td>\n",
       "      <td>0.864065</td>\n",
       "      <td>0.865127</td>\n",
       "      <td>...</td>\n",
       "      <td>0.853131</td>\n",
       "      <td>0.013035</td>\n",
       "      <td>36</td>\n",
       "      <td>0.856730</td>\n",
       "      <td>0.860021</td>\n",
       "      <td>0.855673</td>\n",
       "      <td>0.855175</td>\n",
       "      <td>0.853947</td>\n",
       "      <td>0.856309</td>\n",
       "      <td>0.002060</td>\n",
       "    </tr>\n",
       "    <tr>\n",
       "      <th>4</th>\n",
       "      <td>2.027071</td>\n",
       "      <td>0.047051</td>\n",
       "      <td>0.006248</td>\n",
       "      <td>0.007652</td>\n",
       "      <td>5</td>\n",
       "      <td>{'max_depth': 5}</td>\n",
       "      <td>0.841386</td>\n",
       "      <td>0.854241</td>\n",
       "      <td>0.875083</td>\n",
       "      <td>0.877074</td>\n",
       "      <td>...</td>\n",
       "      <td>0.862688</td>\n",
       "      <td>0.013376</td>\n",
       "      <td>35</td>\n",
       "      <td>0.871399</td>\n",
       "      <td>0.869280</td>\n",
       "      <td>0.869047</td>\n",
       "      <td>0.866857</td>\n",
       "      <td>0.861016</td>\n",
       "      <td>0.867520</td>\n",
       "      <td>0.003556</td>\n",
       "    </tr>\n",
       "  </tbody>\n",
       "</table>\n",
       "<p>5 rows × 21 columns</p>\n",
       "</div>"
      ],
      "text/plain": [
       "   mean_fit_time  std_fit_time  mean_score_time  std_score_time  \\\n",
       "0       0.650020      0.061483         0.011569        0.003253   \n",
       "1       1.077366      0.038788         0.009236        0.005892   \n",
       "2       1.301967      0.073212         0.009374        0.007654   \n",
       "3       1.571143      0.097811         0.010053        0.003545   \n",
       "4       2.027071      0.047051         0.006248        0.007652   \n",
       "\n",
       "  param_max_depth            params  split0_test_score  split1_test_score  \\\n",
       "0               1  {'max_depth': 1}           0.771436           0.791849   \n",
       "1               2  {'max_depth': 2}           0.808468           0.817204   \n",
       "2               3  {'max_depth': 3}           0.816830           0.833931   \n",
       "3               4  {'max_depth': 4}           0.831431           0.844949   \n",
       "4               5  {'max_depth': 5}           0.841386           0.854241   \n",
       "\n",
       "   split2_test_score  split3_test_score  ...  mean_test_score  std_test_score  \\\n",
       "0           0.806452           0.804460  ...         0.795227        0.012913   \n",
       "1           0.824904           0.828488  ...         0.820767        0.007165   \n",
       "2           0.848268           0.850790  ...         0.839511        0.012784   \n",
       "3           0.864065           0.865127  ...         0.853131        0.013035   \n",
       "4           0.875083           0.877074  ...         0.862688        0.013376   \n",
       "\n",
       "   rank_test_score  split0_train_score  split1_train_score  \\\n",
       "0               39            0.801175            0.796104   \n",
       "1               38            0.829384            0.824113   \n",
       "2               37            0.844418            0.845883   \n",
       "3               36            0.856730            0.860021   \n",
       "4               35            0.871399            0.869280   \n",
       "\n",
       "   split2_train_score  split3_train_score  split4_train_score  \\\n",
       "0            0.792453            0.792951            0.793582   \n",
       "1            0.820960            0.821060            0.820629   \n",
       "2            0.838383            0.841635            0.842133   \n",
       "3            0.855673            0.855175            0.853947   \n",
       "4            0.869047            0.866857            0.861016   \n",
       "\n",
       "   mean_train_score  std_train_score  \n",
       "0          0.795253         0.003216  \n",
       "1          0.823229         0.003325  \n",
       "2          0.842491         0.002567  \n",
       "3          0.856309         0.002060  \n",
       "4          0.867520         0.003556  \n",
       "\n",
       "[5 rows x 21 columns]"
      ]
     },
     "execution_count": 57,
     "metadata": {},
     "output_type": "execute_result"
    }
   ],
   "source": [
    "# grid search results\n",
    "score = tree.cv_results_\n",
    "pd.DataFrame(score).head()"
   ]
  },
  {
   "cell_type": "code",
   "execution_count": 58,
   "metadata": {
    "colab": {
     "base_uri": "https://localhost:8080/",
     "height": 280
    },
    "id": "BxDHUy3pzacH",
    "outputId": "4b319ed5-e26d-435f-b163-5734f72f0d64"
   },
   "outputs": [
    {
     "data": {
      "image/png": "[encoded data removed]",
      "text/plain": [
       "<Figure size 432x288 with 1 Axes>"
      ]
     },
     "metadata": {
      "needs_background": "light"
     },
     "output_type": "display_data"
    }
   ],
   "source": [
    "# plotting accuracies with max_depth\n",
    "plt.figure()\n",
    "plt.plot(score[\"param_max_depth\"], \n",
    "         score[\"mean_train_score\"], \n",
    "         label=\"training accuracy\")\n",
    "plt.plot(score[\"param_max_depth\"], \n",
    "         score[\"mean_test_score\"], \n",
    "         label=\"test accuracy\")\n",
    "plt.xlabel(\"max_depth\")\n",
    "plt.ylabel(\"Accuracy\")\n",
    "plt.legend()\n",
    "plt.show()\n",
    "\n",
    "\n",
    "# max_depth =10 seems to be the optimal one"
   ]
  },
  {
   "cell_type": "code",
   "execution_count": 59,
   "metadata": {
    "colab": {
     "base_uri": "https://localhost:8080/"
    },
    "id": "knkmpo7MzacH",
    "outputId": "7e333891-3ced-45f7-b4bc-66e1262c6222"
   },
   "outputs": [
    {
     "data": {
      "text/plain": [
       "GridSearchCV(cv=5, estimator=DecisionTreeClassifier(random_state=100),\n",
       "             param_grid={'min_samples_leaf': range(5, 200, 20)},\n",
       "             return_train_score=True, scoring='accuracy')"
      ]
     },
     "execution_count": 59,
     "metadata": {},
     "output_type": "execute_result"
    }
   ],
   "source": [
    "# lets find optimal value of minimum sample leaf\n",
    "from sklearn.model_selection import KFold\n",
    "from sklearn.model_selection import GridSearchCV\n",
    "\n",
    "\n",
    "# specify number of folds for k-fold CV\n",
    "n_folds = 5\n",
    "\n",
    "# parameters to build the model on\n",
    "parameters = {'min_samples_leaf': range(5, 200, 20)}\n",
    "\n",
    "# instantiate the model\n",
    "dtree = DecisionTreeClassifier(criterion = \"gini\", \n",
    "                               random_state = 100)\n",
    "\n",
    "# fit tree on training data\n",
    "tree = GridSearchCV(dtree, parameters, \n",
    "                    cv=n_folds, \n",
    "                   scoring=\"accuracy\",\n",
    "                   return_train_score=True)\n",
    "tree.fit(X_tr, y_tr)"
   ]
  },
  {
   "cell_type": "code",
   "execution_count": 60,
   "metadata": {
    "colab": {
     "base_uri": "https://localhost:8080/",
     "height": 313
    },
    "id": "C2dc4saPzacH",
    "outputId": "9ffd275b-3483-4167-a218-35537e480c9a"
   },
   "outputs": [
    {
     "data": {
      "text/html": [
       "<div>\n",
       "<style scoped>\n",
       "    .dataframe tbody tr th:only-of-type {\n",
       "        vertical-align: middle;\n",
       "    }\n",
       "\n",
       "    .dataframe tbody tr th {\n",
       "        vertical-align: top;\n",
       "    }\n",
       "\n",
       "    .dataframe thead th {\n",
       "        text-align: right;\n",
       "    }\n",
       "</style>\n",
       "<table border=\"1\" class=\"dataframe\">\n",
       "  <thead>\n",
       "    <tr style=\"text-align: right;\">\n",
       "      <th></th>\n",
       "      <th>mean_fit_time</th>\n",
       "      <th>std_fit_time</th>\n",
       "      <th>mean_score_time</th>\n",
       "      <th>std_score_time</th>\n",
       "      <th>param_min_samples_leaf</th>\n",
       "      <th>params</th>\n",
       "      <th>split0_test_score</th>\n",
       "      <th>split1_test_score</th>\n",
       "      <th>split2_test_score</th>\n",
       "      <th>split3_test_score</th>\n",
       "      <th>...</th>\n",
       "      <th>mean_test_score</th>\n",
       "      <th>std_test_score</th>\n",
       "      <th>rank_test_score</th>\n",
       "      <th>split0_train_score</th>\n",
       "      <th>split1_train_score</th>\n",
       "      <th>split2_train_score</th>\n",
       "      <th>split3_train_score</th>\n",
       "      <th>split4_train_score</th>\n",
       "      <th>mean_train_score</th>\n",
       "      <th>std_train_score</th>\n",
       "    </tr>\n",
       "  </thead>\n",
       "  <tbody>\n",
       "    <tr>\n",
       "      <th>0</th>\n",
       "      <td>1.920092</td>\n",
       "      <td>0.045099</td>\n",
       "      <td>0.015617</td>\n",
       "      <td>0.000006</td>\n",
       "      <td>5</td>\n",
       "      <td>{'min_samples_leaf': 5}</td>\n",
       "      <td>0.880807</td>\n",
       "      <td>0.920881</td>\n",
       "      <td>0.927519</td>\n",
       "      <td>0.930439</td>\n",
       "      <td>...</td>\n",
       "      <td>0.915920</td>\n",
       "      <td>0.017995</td>\n",
       "      <td>1</td>\n",
       "      <td>0.972455</td>\n",
       "      <td>0.968374</td>\n",
       "      <td>0.969104</td>\n",
       "      <td>0.969236</td>\n",
       "      <td>0.968374</td>\n",
       "      <td>0.969508</td>\n",
       "      <td>0.001516</td>\n",
       "    </tr>\n",
       "    <tr>\n",
       "      <th>1</th>\n",
       "      <td>1.547089</td>\n",
       "      <td>0.055058</td>\n",
       "      <td>0.003122</td>\n",
       "      <td>0.006244</td>\n",
       "      <td>25</td>\n",
       "      <td>{'min_samples_leaf': 25}</td>\n",
       "      <td>0.866737</td>\n",
       "      <td>0.891544</td>\n",
       "      <td>0.912917</td>\n",
       "      <td>0.908270</td>\n",
       "      <td>...</td>\n",
       "      <td>0.896220</td>\n",
       "      <td>0.016397</td>\n",
       "      <td>2</td>\n",
       "      <td>0.928216</td>\n",
       "      <td>0.922842</td>\n",
       "      <td>0.922377</td>\n",
       "      <td>0.921316</td>\n",
       "      <td>0.922178</td>\n",
       "      <td>0.923386</td>\n",
       "      <td>0.002465</td>\n",
       "    </tr>\n",
       "    <tr>\n",
       "      <th>2</th>\n",
       "      <td>1.540172</td>\n",
       "      <td>0.196723</td>\n",
       "      <td>0.003124</td>\n",
       "      <td>0.006249</td>\n",
       "      <td>45</td>\n",
       "      <td>{'min_samples_leaf': 45}</td>\n",
       "      <td>0.857181</td>\n",
       "      <td>0.885172</td>\n",
       "      <td>0.899509</td>\n",
       "      <td>0.898580</td>\n",
       "      <td>...</td>\n",
       "      <td>0.886742</td>\n",
       "      <td>0.015634</td>\n",
       "      <td>3</td>\n",
       "      <td>0.912618</td>\n",
       "      <td>0.905784</td>\n",
       "      <td>0.905054</td>\n",
       "      <td>0.904025</td>\n",
       "      <td>0.904756</td>\n",
       "      <td>0.906448</td>\n",
       "      <td>0.003136</td>\n",
       "    </tr>\n",
       "    <tr>\n",
       "      <th>3</th>\n",
       "      <td>1.393308</td>\n",
       "      <td>0.105873</td>\n",
       "      <td>0.012496</td>\n",
       "      <td>0.006248</td>\n",
       "      <td>65</td>\n",
       "      <td>{'min_samples_leaf': 65}</td>\n",
       "      <td>0.848553</td>\n",
       "      <td>0.878003</td>\n",
       "      <td>0.889951</td>\n",
       "      <td>0.892871</td>\n",
       "      <td>...</td>\n",
       "      <td>0.880264</td>\n",
       "      <td>0.016732</td>\n",
       "      <td>4</td>\n",
       "      <td>0.902761</td>\n",
       "      <td>0.895331</td>\n",
       "      <td>0.891913</td>\n",
       "      <td>0.896890</td>\n",
       "      <td>0.898351</td>\n",
       "      <td>0.897049</td>\n",
       "      <td>0.003569</td>\n",
       "    </tr>\n",
       "    <tr>\n",
       "      <th>4</th>\n",
       "      <td>1.783091</td>\n",
       "      <td>0.279369</td>\n",
       "      <td>0.003124</td>\n",
       "      <td>0.006249</td>\n",
       "      <td>85</td>\n",
       "      <td>{'min_samples_leaf': 85}</td>\n",
       "      <td>0.843642</td>\n",
       "      <td>0.871366</td>\n",
       "      <td>0.885437</td>\n",
       "      <td>0.890615</td>\n",
       "      <td>...</td>\n",
       "      <td>0.875326</td>\n",
       "      <td>0.017091</td>\n",
       "      <td>5</td>\n",
       "      <td>0.894166</td>\n",
       "      <td>0.889158</td>\n",
       "      <td>0.884910</td>\n",
       "      <td>0.889258</td>\n",
       "      <td>0.889357</td>\n",
       "      <td>0.889370</td>\n",
       "      <td>0.002931</td>\n",
       "    </tr>\n",
       "  </tbody>\n",
       "</table>\n",
       "<p>5 rows × 21 columns</p>\n",
       "</div>"
      ],
      "text/plain": [
       "   mean_fit_time  std_fit_time  mean_score_time  std_score_time  \\\n",
       "0       1.920092      0.045099         0.015617        0.000006   \n",
       "1       1.547089      0.055058         0.003122        0.006244   \n",
       "2       1.540172      0.196723         0.003124        0.006249   \n",
       "3       1.393308      0.105873         0.012496        0.006248   \n",
       "4       1.783091      0.279369         0.003124        0.006249   \n",
       "\n",
       "  param_min_samples_leaf                    params  split0_test_score  \\\n",
       "0                      5   {'min_samples_leaf': 5}           0.880807   \n",
       "1                     25  {'min_samples_leaf': 25}           0.866737   \n",
       "2                     45  {'min_samples_leaf': 45}           0.857181   \n",
       "3                     65  {'min_samples_leaf': 65}           0.848553   \n",
       "4                     85  {'min_samples_leaf': 85}           0.843642   \n",
       "\n",
       "   split1_test_score  split2_test_score  split3_test_score  ...  \\\n",
       "0           0.920881           0.927519           0.930439  ...   \n",
       "1           0.891544           0.912917           0.908270  ...   \n",
       "2           0.885172           0.899509           0.898580  ...   \n",
       "3           0.878003           0.889951           0.892871  ...   \n",
       "4           0.871366           0.885437           0.890615  ...   \n",
       "\n",
       "   mean_test_score  std_test_score  rank_test_score  split0_train_score  \\\n",
       "0         0.915920        0.017995                1            0.972455   \n",
       "1         0.896220        0.016397                2            0.928216   \n",
       "2         0.886742        0.015634                3            0.912618   \n",
       "3         0.880264        0.016732                4            0.902761   \n",
       "4         0.875326        0.017091                5            0.894166   \n",
       "\n",
       "   split1_train_score  split2_train_score  split3_train_score  \\\n",
       "0            0.968374            0.969104            0.969236   \n",
       "1            0.922842            0.922377            0.921316   \n",
       "2            0.905784            0.905054            0.904025   \n",
       "3            0.895331            0.891913            0.896890   \n",
       "4            0.889158            0.884910            0.889258   \n",
       "\n",
       "   split4_train_score  mean_train_score  std_train_score  \n",
       "0            0.968374          0.969508         0.001516  \n",
       "1            0.922178          0.923386         0.002465  \n",
       "2            0.904756          0.906448         0.003136  \n",
       "3            0.898351          0.897049         0.003569  \n",
       "4            0.889357          0.889370         0.002931  \n",
       "\n",
       "[5 rows x 21 columns]"
      ]
     },
     "execution_count": 60,
     "metadata": {},
     "output_type": "execute_result"
    }
   ],
   "source": [
    "# grid search results\n",
    "score = tree.cv_results_\n",
    "pd.DataFrame(score).head()"
   ]
  },
  {
   "cell_type": "code",
   "execution_count": 61,
   "metadata": {
    "colab": {
     "base_uri": "https://localhost:8080/",
     "height": 280
    },
    "id": "LBwrWDYLzacI",
    "outputId": "701bda20-e296-4547-8abc-f4725e832999"
   },
   "outputs": [
    {
     "data": {
      "image/png": "[encoded data removed]",
      "text/plain": [
       "<Figure size 432x288 with 1 Axes>"
      ]
     },
     "metadata": {
      "needs_background": "light"
     },
     "output_type": "display_data"
    }
   ],
   "source": [
    "# plotting accuracies with min_sample_leaf\n",
    "plt.figure()\n",
    "plt.plot(score[\"param_min_samples_leaf\"], \n",
    "         score[\"mean_train_score\"], \n",
    "         label=\"training accuracy\")\n",
    "plt.plot(score[\"param_min_samples_leaf\"], \n",
    "         score[\"mean_test_score\"], \n",
    "         label=\"test accuracy\")\n",
    "plt.xlabel(\"min_sample_leaf\")\n",
    "plt.ylabel(\"Accuracy\")\n",
    "plt.legend()\n",
    "plt.show()\n",
    "\n",
    "# min_sample_leaf =25 seems to be the optimal one"
   ]
  },
  {
   "cell_type": "code",
   "execution_count": 62,
   "metadata": {
    "colab": {
     "base_uri": "https://localhost:8080/"
    },
    "id": "I4pG55rKzacI",
    "outputId": "2450d78c-83a8-45fe-c465-c53ef8c16027"
   },
   "outputs": [
    {
     "data": {
      "text/plain": [
       "GridSearchCV(cv=5, estimator=DecisionTreeClassifier(random_state=100),\n",
       "             n_jobs=-1, param_grid={'min_samples_split': range(5, 200, 20)},\n",
       "             return_train_score=True, scoring='accuracy')"
      ]
     },
     "execution_count": 62,
     "metadata": {},
     "output_type": "execute_result"
    }
   ],
   "source": [
    "# lets fine tune min sample split now\n",
    "from sklearn.model_selection import KFold\n",
    "from sklearn.model_selection import GridSearchCV\n",
    "\n",
    "\n",
    "# specify number of folds for k-fold CV\n",
    "n_folds = 5\n",
    "\n",
    "# parameters to build the model on\n",
    "parameters = {'min_samples_split': range(5, 200, 20)}\n",
    "\n",
    "# instantiate the model\n",
    "dtree = DecisionTreeClassifier(criterion = \"gini\", \n",
    "                               random_state = 100)\n",
    "\n",
    "# fit tree on training data\n",
    "tree = GridSearchCV(dtree, parameters, \n",
    "                    cv=n_folds, \n",
    "                   scoring=\"accuracy\",\n",
    "                    n_jobs = -1,\n",
    "                   return_train_score=True)\n",
    "tree.fit(X_tr, y_tr)"
   ]
  },
  {
   "cell_type": "code",
   "execution_count": 63,
   "metadata": {
    "colab": {
     "base_uri": "https://localhost:8080/",
     "height": 313
    },
    "id": "uEEechRGzacI",
    "outputId": "5b4092a4-43a1-491c-a7d3-1a7eb73f3406"
   },
   "outputs": [
    {
     "data": {
      "text/html": [
       "<div>\n",
       "<style scoped>\n",
       "    .dataframe tbody tr th:only-of-type {\n",
       "        vertical-align: middle;\n",
       "    }\n",
       "\n",
       "    .dataframe tbody tr th {\n",
       "        vertical-align: top;\n",
       "    }\n",
       "\n",
       "    .dataframe thead th {\n",
       "        text-align: right;\n",
       "    }\n",
       "</style>\n",
       "<table border=\"1\" class=\"dataframe\">\n",
       "  <thead>\n",
       "    <tr style=\"text-align: right;\">\n",
       "      <th></th>\n",
       "      <th>mean_fit_time</th>\n",
       "      <th>std_fit_time</th>\n",
       "      <th>mean_score_time</th>\n",
       "      <th>std_score_time</th>\n",
       "      <th>param_min_samples_split</th>\n",
       "      <th>params</th>\n",
       "      <th>split0_test_score</th>\n",
       "      <th>split1_test_score</th>\n",
       "      <th>split2_test_score</th>\n",
       "      <th>split3_test_score</th>\n",
       "      <th>...</th>\n",
       "      <th>mean_test_score</th>\n",
       "      <th>std_test_score</th>\n",
       "      <th>rank_test_score</th>\n",
       "      <th>split0_train_score</th>\n",
       "      <th>split1_train_score</th>\n",
       "      <th>split2_train_score</th>\n",
       "      <th>split3_train_score</th>\n",
       "      <th>split4_train_score</th>\n",
       "      <th>mean_train_score</th>\n",
       "      <th>std_train_score</th>\n",
       "    </tr>\n",
       "  </thead>\n",
       "  <tbody>\n",
       "    <tr>\n",
       "      <th>0</th>\n",
       "      <td>6.351426</td>\n",
       "      <td>0.157485</td>\n",
       "      <td>0.012497</td>\n",
       "      <td>0.006248</td>\n",
       "      <td>5</td>\n",
       "      <td>{'min_samples_split': 5}</td>\n",
       "      <td>0.895938</td>\n",
       "      <td>0.927917</td>\n",
       "      <td>0.932962</td>\n",
       "      <td>0.932298</td>\n",
       "      <td>...</td>\n",
       "      <td>0.923353</td>\n",
       "      <td>0.013880</td>\n",
       "      <td>1</td>\n",
       "      <td>0.995785</td>\n",
       "      <td>0.994757</td>\n",
       "      <td>0.995553</td>\n",
       "      <td>0.994956</td>\n",
       "      <td>0.994856</td>\n",
       "      <td>0.995181</td>\n",
       "      <td>0.000410</td>\n",
       "    </tr>\n",
       "    <tr>\n",
       "      <th>1</th>\n",
       "      <td>6.368628</td>\n",
       "      <td>0.203985</td>\n",
       "      <td>0.013948</td>\n",
       "      <td>0.007518</td>\n",
       "      <td>25</td>\n",
       "      <td>{'min_samples_split': 25}</td>\n",
       "      <td>0.885984</td>\n",
       "      <td>0.915571</td>\n",
       "      <td>0.920616</td>\n",
       "      <td>0.924598</td>\n",
       "      <td>...</td>\n",
       "      <td>0.913743</td>\n",
       "      <td>0.014186</td>\n",
       "      <td>2</td>\n",
       "      <td>0.971625</td>\n",
       "      <td>0.967677</td>\n",
       "      <td>0.966913</td>\n",
       "      <td>0.968838</td>\n",
       "      <td>0.969303</td>\n",
       "      <td>0.968871</td>\n",
       "      <td>0.001614</td>\n",
       "    </tr>\n",
       "    <tr>\n",
       "      <th>2</th>\n",
       "      <td>6.401629</td>\n",
       "      <td>0.153504</td>\n",
       "      <td>0.012497</td>\n",
       "      <td>0.006249</td>\n",
       "      <td>45</td>\n",
       "      <td>{'min_samples_split': 45}</td>\n",
       "      <td>0.876958</td>\n",
       "      <td>0.905615</td>\n",
       "      <td>0.914377</td>\n",
       "      <td>0.918625</td>\n",
       "      <td>...</td>\n",
       "      <td>0.905698</td>\n",
       "      <td>0.014970</td>\n",
       "      <td>3</td>\n",
       "      <td>0.956591</td>\n",
       "      <td>0.950353</td>\n",
       "      <td>0.950718</td>\n",
       "      <td>0.953539</td>\n",
       "      <td>0.950951</td>\n",
       "      <td>0.952431</td>\n",
       "      <td>0.002365</td>\n",
       "    </tr>\n",
       "    <tr>\n",
       "      <th>3</th>\n",
       "      <td>6.345532</td>\n",
       "      <td>0.163318</td>\n",
       "      <td>0.012506</td>\n",
       "      <td>0.006253</td>\n",
       "      <td>65</td>\n",
       "      <td>{'min_samples_split': 65}</td>\n",
       "      <td>0.874170</td>\n",
       "      <td>0.902960</td>\n",
       "      <td>0.911191</td>\n",
       "      <td>0.914111</td>\n",
       "      <td>...</td>\n",
       "      <td>0.901875</td>\n",
       "      <td>0.014359</td>\n",
       "      <td>4</td>\n",
       "      <td>0.944677</td>\n",
       "      <td>0.940796</td>\n",
       "      <td>0.940663</td>\n",
       "      <td>0.941559</td>\n",
       "      <td>0.942090</td>\n",
       "      <td>0.941957</td>\n",
       "      <td>0.001456</td>\n",
       "    </tr>\n",
       "    <tr>\n",
       "      <th>4</th>\n",
       "      <td>6.305159</td>\n",
       "      <td>0.156607</td>\n",
       "      <td>0.012496</td>\n",
       "      <td>0.011689</td>\n",
       "      <td>85</td>\n",
       "      <td>{'min_samples_split': 85}</td>\n",
       "      <td>0.867401</td>\n",
       "      <td>0.897783</td>\n",
       "      <td>0.908005</td>\n",
       "      <td>0.908270</td>\n",
       "      <td>...</td>\n",
       "      <td>0.897468</td>\n",
       "      <td>0.015509</td>\n",
       "      <td>5</td>\n",
       "      <td>0.937376</td>\n",
       "      <td>0.933362</td>\n",
       "      <td>0.933462</td>\n",
       "      <td>0.930674</td>\n",
       "      <td>0.934490</td>\n",
       "      <td>0.933873</td>\n",
       "      <td>0.002159</td>\n",
       "    </tr>\n",
       "  </tbody>\n",
       "</table>\n",
       "<p>5 rows × 21 columns</p>\n",
       "</div>"
      ],
      "text/plain": [
       "   mean_fit_time  std_fit_time  mean_score_time  std_score_time  \\\n",
       "0       6.351426      0.157485         0.012497        0.006248   \n",
       "1       6.368628      0.203985         0.013948        0.007518   \n",
       "2       6.401629      0.153504         0.012497        0.006249   \n",
       "3       6.345532      0.163318         0.012506        0.006253   \n",
       "4       6.305159      0.156607         0.012496        0.011689   \n",
       "\n",
       "  param_min_samples_split                     params  split0_test_score  \\\n",
       "0                       5   {'min_samples_split': 5}           0.895938   \n",
       "1                      25  {'min_samples_split': 25}           0.885984   \n",
       "2                      45  {'min_samples_split': 45}           0.876958   \n",
       "3                      65  {'min_samples_split': 65}           0.874170   \n",
       "4                      85  {'min_samples_split': 85}           0.867401   \n",
       "\n",
       "   split1_test_score  split2_test_score  split3_test_score  ...  \\\n",
       "0           0.927917           0.932962           0.932298  ...   \n",
       "1           0.915571           0.920616           0.924598  ...   \n",
       "2           0.905615           0.914377           0.918625  ...   \n",
       "3           0.902960           0.911191           0.914111  ...   \n",
       "4           0.897783           0.908005           0.908270  ...   \n",
       "\n",
       "   mean_test_score  std_test_score  rank_test_score  split0_train_score  \\\n",
       "0         0.923353        0.013880                1            0.995785   \n",
       "1         0.913743        0.014186                2            0.971625   \n",
       "2         0.905698        0.014970                3            0.956591   \n",
       "3         0.901875        0.014359                4            0.944677   \n",
       "4         0.897468        0.015509                5            0.937376   \n",
       "\n",
       "   split1_train_score  split2_train_score  split3_train_score  \\\n",
       "0            0.994757            0.995553            0.994956   \n",
       "1            0.967677            0.966913            0.968838   \n",
       "2            0.950353            0.950718            0.953539   \n",
       "3            0.940796            0.940663            0.941559   \n",
       "4            0.933362            0.933462            0.930674   \n",
       "\n",
       "   split4_train_score  mean_train_score  std_train_score  \n",
       "0            0.994856          0.995181         0.000410  \n",
       "1            0.969303          0.968871         0.001614  \n",
       "2            0.950951          0.952431         0.002365  \n",
       "3            0.942090          0.941957         0.001456  \n",
       "4            0.934490          0.933873         0.002159  \n",
       "\n",
       "[5 rows x 21 columns]"
      ]
     },
     "execution_count": 63,
     "metadata": {},
     "output_type": "execute_result"
    }
   ],
   "source": [
    "# scores of GridSearch CV\n",
    "scores = tree.cv_results_\n",
    "pd.DataFrame(scores).head()"
   ]
  },
  {
   "cell_type": "code",
   "execution_count": 64,
   "metadata": {
    "colab": {
     "base_uri": "https://localhost:8080/",
     "height": 280
    },
    "id": "CeEUzAuszacI",
    "outputId": "9db08c45-deaa-489b-e12e-68a9cbddb99d"
   },
   "outputs": [
    {
     "data": {
      "image/png": "[encoded data removed]",
      "text/plain": [
       "<Figure size 432x288 with 1 Axes>"
      ]
     },
     "metadata": {
      "needs_background": "light"
     },
     "output_type": "display_data"
    }
   ],
   "source": [
    "# plotting accuracies with min_samples_leaf\n",
    "plt.figure()\n",
    "plt.plot(scores[\"param_min_samples_split\"], \n",
    "         scores[\"mean_train_score\"], \n",
    "         label=\"training accuracy\")\n",
    "plt.plot(scores[\"param_min_samples_split\"], \n",
    "         scores[\"mean_test_score\"], \n",
    "         label=\"test accuracy\")\n",
    "plt.xlabel(\"min_samples_split\")\n",
    "plt.ylabel(\"Accuracy\")\n",
    "plt.legend()\n",
    "plt.show()\n",
    "\n",
    "# min_samples_leaf=50 seems to be optimal"
   ]
  },
  {
   "cell_type": "code",
   "execution_count": 65,
   "metadata": {
    "colab": {
     "base_uri": "https://localhost:8080/"
    },
    "id": "4B8LcdoVzacJ",
    "outputId": "442315b2-59ab-4b84-eb6d-40dadb68585d"
   },
   "outputs": [
    {
     "name": "stdout",
     "output_type": "stream",
     "text": [
      "Fitting 5 folds for each of 24 candidates, totalling 120 fits\n"
     ]
    },
    {
     "data": {
      "text/plain": [
       "GridSearchCV(cv=5, estimator=DecisionTreeClassifier(), n_jobs=-1,\n",
       "             param_grid={'criterion': ['entropy', 'gini'],\n",
       "                         'max_depth': range(5, 15, 5),\n",
       "                         'min_samples_leaf': range(25, 175, 50),\n",
       "                         'min_samples_split': range(50, 150, 50)},\n",
       "             verbose=1)"
      ]
     },
     "execution_count": 65,
     "metadata": {},
     "output_type": "execute_result"
    }
   ],
   "source": [
    "# Create the parameter grid \n",
    "param_grid = {\n",
    "    'max_depth': range(5, 15, 5),\n",
    "    'min_samples_leaf': range(25, 175, 50),\n",
    "    'min_samples_split': range(50, 150, 50),\n",
    "    'criterion': [\"entropy\", \"gini\"]\n",
    "}\n",
    "\n",
    "n_folds = 5\n",
    "\n",
    "# Instantiate the grid search model\n",
    "dtree = DecisionTreeClassifier()\n",
    "grid_search = GridSearchCV(estimator = dtree, param_grid = param_grid, \n",
    "                          cv = n_folds,n_jobs = -1, verbose = 1)\n",
    "\n",
    "# Fit the grid search to the data\n",
    "grid_search.fit(X_tr, y_tr)"
   ]
  },
  {
   "cell_type": "code",
   "execution_count": 66,
   "metadata": {
    "colab": {
     "base_uri": "https://localhost:8080/"
    },
    "id": "4DbZu8wpzacJ",
    "outputId": "bc0a2530-bc4d-4a93-fc6d-1d81e45d7ef1"
   },
   "outputs": [
    {
     "name": "stdout",
     "output_type": "stream",
     "text": [
      "Best Accuracy 0.8951315776815092\n"
     ]
    }
   ],
   "source": [
    "# cv results\n",
    "cv_results = pd.DataFrame(grid_search.cv_results_)\n",
    "cv_results\n",
    "# printing the optimal accuracy score and hyperparameters\n",
    "print(\"Best Accuracy\", grid_search.best_score_)\n"
   ]
  },
  {
   "cell_type": "code",
   "execution_count": 67,
   "metadata": {
    "colab": {
     "base_uri": "https://localhost:8080/"
    },
    "id": "uMOjc7sIzacJ",
    "outputId": "31f93a8c-f9c3-4674-e8b2-df87d70e5609"
   },
   "outputs": [
    {
     "name": "stdout",
     "output_type": "stream",
     "text": [
      "DecisionTreeClassifier(max_depth=10, min_samples_leaf=25, min_samples_split=50)\n"
     ]
    }
   ],
   "source": [
    "print(grid_search.best_estimator_)"
   ]
  },
  {
   "cell_type": "code",
   "execution_count": 68,
   "metadata": {
    "colab": {
     "base_uri": "https://localhost:8080/"
    },
    "id": "XiBFTrO5zacJ",
    "outputId": "f444ce2d-7c65-48b9-bf5b-b154f6b494f8"
   },
   "outputs": [
    {
     "data": {
      "text/plain": [
       "DecisionTreeClassifier(max_depth=5, min_samples_leaf=25, min_samples_split=50,\n",
       "                       random_state=100)"
      ]
     },
     "execution_count": 68,
     "metadata": {},
     "output_type": "execute_result"
    }
   ],
   "source": [
    "# model with optimal hyperparameters\n",
    "clf_gini = DecisionTreeClassifier(criterion = \"gini\", \n",
    "                                  random_state = 100,\n",
    "                                  max_depth=5, \n",
    "                                  min_samples_leaf=25,\n",
    "                                  min_samples_split=50)\n",
    "clf_gini.fit(X_tr, y_tr)"
   ]
  },
  {
   "cell_type": "code",
   "execution_count": 69,
   "metadata": {
    "colab": {
     "base_uri": "https://localhost:8080/"
    },
    "id": "UDTy7q4EzacK",
    "outputId": "87af0584-e9f2-46ec-c497-4c0d967eeb77"
   },
   "outputs": [
    {
     "name": "stdout",
     "output_type": "stream",
     "text": [
      "Accuracy Score for Decision Tree Final Model : 0.8465855940130963\n"
     ]
    }
   ],
   "source": [
    "# accuracy score\n",
    "print ('Accuracy Score for Decision Tree Final Model :',clf_gini.score(X_test,y_test))"
   ]
  },
  {
   "cell_type": "code",
   "execution_count": 70,
   "metadata": {
    "id": "lM3Z4H8szacK"
   },
   "outputs": [],
   "source": [
    "# Conclusion from the above Decision Tree model\n",
    "# 1. 84% accuracy on the test dataset\n",
    "# 2. lots of false positives in the confusion matrix"
   ]
  },
  {
   "cell_type": "markdown",
   "metadata": {
    "id": "iQYQETP7zacK"
   },
   "source": [
    "# Random Forest"
   ]
  },
  {
   "cell_type": "code",
   "execution_count": 71,
   "metadata": {
    "colab": {
     "base_uri": "https://localhost:8080/"
    },
    "id": "O3LrNWq1zacK",
    "outputId": "be3f3863-9c45-483e-8aa1-96046a4bf4fb"
   },
   "outputs": [
    {
     "name": "stdout",
     "output_type": "stream",
     "text": [
      "Randon Forest Accuracy with Default Hyperparameter 0.9422357343311506\n"
     ]
    }
   ],
   "source": [
    "from sklearn.ensemble import RandomForestClassifier\n",
    "from sklearn import metrics\n",
    "\n",
    "model_rf = RandomForestClassifier()\n",
    "model_rf.fit(X_tr, y_tr)\n",
    "\n",
    "# Make predictions\n",
    "prediction_test = model_rf.predict(X_test)\n",
    "print ('Randon Forest Accuracy with Default Hyperparameter',metrics.accuracy_score(y_test, prediction_test))"
   ]
  },
  {
   "cell_type": "code",
   "execution_count": 72,
   "metadata": {
    "colab": {
     "base_uri": "https://localhost:8080/"
    },
    "id": "sIzfiQ7ezacK",
    "outputId": "9f132baf-6df7-47d2-dc42-b53c84cf71b0"
   },
   "outputs": [
    {
     "name": "stdout",
     "output_type": "stream",
     "text": [
      "              precision    recall  f1-score   support\n",
      "\n",
      "           0       0.97      0.97      0.97      8075\n",
      "           1       0.48      0.55      0.52       477\n",
      "\n",
      "    accuracy                           0.94      8552\n",
      "   macro avg       0.73      0.76      0.74      8552\n",
      "weighted avg       0.95      0.94      0.94      8552\n",
      "\n"
     ]
    }
   ],
   "source": [
    "print(classification_report(y_test,prediction_test))"
   ]
  },
  {
   "cell_type": "code",
   "execution_count": 73,
   "metadata": {
    "colab": {
     "base_uri": "https://localhost:8080/"
    },
    "id": "VyInEyMZzacL",
    "outputId": "9f6323e9-e71c-4cb0-f8b5-46eada28159c"
   },
   "outputs": [
    {
     "name": "stdout",
     "output_type": "stream",
     "text": [
      "[[7794  281]\n",
      " [ 213  264]]\n"
     ]
    }
   ],
   "source": [
    "# Printing confusion matrix\n",
    "print(confusion_matrix(y_test, prediction_test))"
   ]
  },
  {
   "cell_type": "code",
   "execution_count": 74,
   "metadata": {
    "colab": {
     "base_uri": "https://localhost:8080/"
    },
    "id": "n67aUImfzacL",
    "outputId": "460ea89f-b9df-4b63-f3ea-5e2a9d31ef47"
   },
   "outputs": [
    {
     "data": {
      "text/plain": [
       "GridSearchCV(cv=5, estimator=RandomForestClassifier(), n_jobs=-1,\n",
       "             param_grid={'max_depth': range(2, 20, 5)}, return_train_score=True,\n",
       "             scoring='accuracy')"
      ]
     },
     "execution_count": 74,
     "metadata": {},
     "output_type": "execute_result"
    }
   ],
   "source": [
    "# GridSearchCV to find optimal n_estimators\n",
    "from sklearn.model_selection import KFold\n",
    "from sklearn.model_selection import GridSearchCV\n",
    "\n",
    "\n",
    "# specify number of folds for k-fold CV\n",
    "n_folds = 5\n",
    "\n",
    "# parameters to build the model on\n",
    "parameters = {'max_depth': range(2, 20, 5)}\n",
    "\n",
    "# instantiate the model\n",
    "rf = RandomForestClassifier()\n",
    "\n",
    "\n",
    "# fit tree on training data\n",
    "rf = GridSearchCV(rf, parameters, \n",
    "                    cv=n_folds, \n",
    "                   scoring=\"accuracy\",n_jobs = -1,\n",
    "                  return_train_score=True)\n",
    "rf.fit(X_tr, y_tr)"
   ]
  },
  {
   "cell_type": "code",
   "execution_count": 75,
   "metadata": {
    "colab": {
     "base_uri": "https://localhost:8080/",
     "height": 264
    },
    "id": "PyRzi1eCzacL",
    "outputId": "bbd91393-94f7-4476-8255-e5defe5160cb"
   },
   "outputs": [
    {
     "data": {
      "text/html": [
       "<div>\n",
       "<style scoped>\n",
       "    .dataframe tbody tr th:only-of-type {\n",
       "        vertical-align: middle;\n",
       "    }\n",
       "\n",
       "    .dataframe tbody tr th {\n",
       "        vertical-align: top;\n",
       "    }\n",
       "\n",
       "    .dataframe thead th {\n",
       "        text-align: right;\n",
       "    }\n",
       "</style>\n",
       "<table border=\"1\" class=\"dataframe\">\n",
       "  <thead>\n",
       "    <tr style=\"text-align: right;\">\n",
       "      <th></th>\n",
       "      <th>mean_fit_time</th>\n",
       "      <th>std_fit_time</th>\n",
       "      <th>mean_score_time</th>\n",
       "      <th>std_score_time</th>\n",
       "      <th>param_max_depth</th>\n",
       "      <th>params</th>\n",
       "      <th>split0_test_score</th>\n",
       "      <th>split1_test_score</th>\n",
       "      <th>split2_test_score</th>\n",
       "      <th>split3_test_score</th>\n",
       "      <th>...</th>\n",
       "      <th>mean_test_score</th>\n",
       "      <th>std_test_score</th>\n",
       "      <th>rank_test_score</th>\n",
       "      <th>split0_train_score</th>\n",
       "      <th>split1_train_score</th>\n",
       "      <th>split2_train_score</th>\n",
       "      <th>split3_train_score</th>\n",
       "      <th>split4_train_score</th>\n",
       "      <th>mean_train_score</th>\n",
       "      <th>std_train_score</th>\n",
       "    </tr>\n",
       "  </thead>\n",
       "  <tbody>\n",
       "    <tr>\n",
       "      <th>0</th>\n",
       "      <td>6.882923</td>\n",
       "      <td>0.042610</td>\n",
       "      <td>0.174959</td>\n",
       "      <td>0.006248</td>\n",
       "      <td>2</td>\n",
       "      <td>{'max_depth': 2}</td>\n",
       "      <td>0.822803</td>\n",
       "      <td>0.843356</td>\n",
       "      <td>0.859684</td>\n",
       "      <td>0.851586</td>\n",
       "      <td>...</td>\n",
       "      <td>0.847635</td>\n",
       "      <td>0.013911</td>\n",
       "      <td>4</td>\n",
       "      <td>0.849462</td>\n",
       "      <td>0.851923</td>\n",
       "      <td>0.847543</td>\n",
       "      <td>0.839943</td>\n",
       "      <td>0.849998</td>\n",
       "      <td>0.847774</td>\n",
       "      <td>0.004157</td>\n",
       "    </tr>\n",
       "    <tr>\n",
       "      <th>1</th>\n",
       "      <td>18.922935</td>\n",
       "      <td>0.140865</td>\n",
       "      <td>0.224946</td>\n",
       "      <td>0.007654</td>\n",
       "      <td>7</td>\n",
       "      <td>{'max_depth': 7}</td>\n",
       "      <td>0.878152</td>\n",
       "      <td>0.891809</td>\n",
       "      <td>0.907341</td>\n",
       "      <td>0.906943</td>\n",
       "      <td>...</td>\n",
       "      <td>0.898105</td>\n",
       "      <td>0.011558</td>\n",
       "      <td>3</td>\n",
       "      <td>0.914609</td>\n",
       "      <td>0.909136</td>\n",
       "      <td>0.903793</td>\n",
       "      <td>0.904025</td>\n",
       "      <td>0.906183</td>\n",
       "      <td>0.907549</td>\n",
       "      <td>0.004019</td>\n",
       "    </tr>\n",
       "    <tr>\n",
       "      <th>2</th>\n",
       "      <td>27.676711</td>\n",
       "      <td>0.272106</td>\n",
       "      <td>0.284387</td>\n",
       "      <td>0.011774</td>\n",
       "      <td>12</td>\n",
       "      <td>{'max_depth': 12}</td>\n",
       "      <td>0.931776</td>\n",
       "      <td>0.948759</td>\n",
       "      <td>0.954202</td>\n",
       "      <td>0.958051</td>\n",
       "      <td>...</td>\n",
       "      <td>0.950380</td>\n",
       "      <td>0.009985</td>\n",
       "      <td>2</td>\n",
       "      <td>0.977532</td>\n",
       "      <td>0.974546</td>\n",
       "      <td>0.973982</td>\n",
       "      <td>0.973418</td>\n",
       "      <td>0.973418</td>\n",
       "      <td>0.974579</td>\n",
       "      <td>0.001535</td>\n",
       "    </tr>\n",
       "    <tr>\n",
       "      <th>3</th>\n",
       "      <td>27.199520</td>\n",
       "      <td>2.833544</td>\n",
       "      <td>0.209390</td>\n",
       "      <td>0.040339</td>\n",
       "      <td>17</td>\n",
       "      <td>{'max_depth': 17}</td>\n",
       "      <td>0.946907</td>\n",
       "      <td>0.965220</td>\n",
       "      <td>0.970264</td>\n",
       "      <td>0.971061</td>\n",
       "      <td>...</td>\n",
       "      <td>0.965009</td>\n",
       "      <td>0.009330</td>\n",
       "      <td>1</td>\n",
       "      <td>0.991139</td>\n",
       "      <td>0.990243</td>\n",
       "      <td>0.989779</td>\n",
       "      <td>0.990608</td>\n",
       "      <td>0.989745</td>\n",
       "      <td>0.990303</td>\n",
       "      <td>0.000526</td>\n",
       "    </tr>\n",
       "  </tbody>\n",
       "</table>\n",
       "<p>4 rows × 21 columns</p>\n",
       "</div>"
      ],
      "text/plain": [
       "   mean_fit_time  std_fit_time  mean_score_time  std_score_time  \\\n",
       "0       6.882923      0.042610         0.174959        0.006248   \n",
       "1      18.922935      0.140865         0.224946        0.007654   \n",
       "2      27.676711      0.272106         0.284387        0.011774   \n",
       "3      27.199520      2.833544         0.209390        0.040339   \n",
       "\n",
       "  param_max_depth             params  split0_test_score  split1_test_score  \\\n",
       "0               2   {'max_depth': 2}           0.822803           0.843356   \n",
       "1               7   {'max_depth': 7}           0.878152           0.891809   \n",
       "2              12  {'max_depth': 12}           0.931776           0.948759   \n",
       "3              17  {'max_depth': 17}           0.946907           0.965220   \n",
       "\n",
       "   split2_test_score  split3_test_score  ...  mean_test_score  std_test_score  \\\n",
       "0           0.859684           0.851586  ...         0.847635        0.013911   \n",
       "1           0.907341           0.906943  ...         0.898105        0.011558   \n",
       "2           0.954202           0.958051  ...         0.950380        0.009985   \n",
       "3           0.970264           0.971061  ...         0.965009        0.009330   \n",
       "\n",
       "   rank_test_score  split0_train_score  split1_train_score  \\\n",
       "0                4            0.849462            0.851923   \n",
       "1                3            0.914609            0.909136   \n",
       "2                2            0.977532            0.974546   \n",
       "3                1            0.991139            0.990243   \n",
       "\n",
       "   split2_train_score  split3_train_score  split4_train_score  \\\n",
       "0            0.847543            0.839943            0.849998   \n",
       "1            0.903793            0.904025            0.906183   \n",
       "2            0.973982            0.973418            0.973418   \n",
       "3            0.989779            0.990608            0.989745   \n",
       "\n",
       "   mean_train_score  std_train_score  \n",
       "0          0.847774         0.004157  \n",
       "1          0.907549         0.004019  \n",
       "2          0.974579         0.001535  \n",
       "3          0.990303         0.000526  \n",
       "\n",
       "[4 rows x 21 columns]"
      ]
     },
     "execution_count": 75,
     "metadata": {},
     "output_type": "execute_result"
    }
   ],
   "source": [
    "# scores of GridSearch CV\n",
    "scores = rf.cv_results_\n",
    "pd.DataFrame(scores).head()"
   ]
  },
  {
   "cell_type": "code",
   "execution_count": 76,
   "metadata": {
    "colab": {
     "base_uri": "https://localhost:8080/",
     "height": 280
    },
    "id": "vyJc9E7-zacL",
    "outputId": "fc698a38-a9fa-40b8-aec1-fbed5278eac3"
   },
   "outputs": [
    {
     "data": {
      "image/png": "[encoded data removed]",
      "text/plain": [
       "<Figure size 432x288 with 1 Axes>"
      ]
     },
     "metadata": {
      "needs_background": "light"
     },
     "output_type": "display_data"
    }
   ],
   "source": [
    "# plotting accuracies with max_depth\n",
    "plt.figure()\n",
    "plt.plot(scores[\"param_max_depth\"], \n",
    "         scores[\"mean_train_score\"], \n",
    "         label=\"training accuracy\")\n",
    "plt.plot(scores[\"param_max_depth\"], \n",
    "         scores[\"mean_test_score\"], \n",
    "         label=\"test accuracy\")\n",
    "plt.xlabel(\"max_depth\")\n",
    "plt.ylabel(\"Accuracy\")\n",
    "plt.legend()\n",
    "plt.show()"
   ]
  },
  {
   "cell_type": "code",
   "execution_count": 77,
   "metadata": {
    "colab": {
     "base_uri": "https://localhost:8080/"
    },
    "id": "M4wvOy0hzacL",
    "outputId": "7c58441e-dcc3-41d8-fbef-7a80738e4e13"
   },
   "outputs": [
    {
     "data": {
      "text/plain": [
       "GridSearchCV(cv=5, estimator=RandomForestClassifier(max_depth=4), n_jobs=-1,\n",
       "             param_grid={'n_estimators': range(100, 1500, 400)},\n",
       "             return_train_score=True, scoring='accuracy')"
      ]
     },
     "execution_count": 77,
     "metadata": {},
     "output_type": "execute_result"
    }
   ],
   "source": [
    "##Tuning n_estimators\n",
    "## GridSearchCV to find optimal n_estimators\n",
    "#from sklearn.model_selection import KFold\n",
    "## specify number of folds for k-fold CV\n",
    "n_folds = 5\n",
    "#\n",
    "## parameters to build the model on\n",
    "parameters = {'n_estimators': range(100, 1500, 400)}\n",
    "#\n",
    "## instantiate the model (note we are specifying a max_depth)\n",
    "rf = RandomForestClassifier(max_depth=4)\n",
    "#\n",
    "#\n",
    "## fit tree on training data\n",
    "rf = GridSearchCV(rf, parameters, \n",
    "                    cv=n_folds,n_jobs = -1, \n",
    "                   scoring=\"accuracy\",\n",
    "                  return_train_score=True)\n",
    "rf.fit(X_tr, y_tr)"
   ]
  },
  {
   "cell_type": "code",
   "execution_count": 78,
   "metadata": {
    "colab": {
     "base_uri": "https://localhost:8080/",
     "height": 280
    },
    "id": "7NtCqha3zacL",
    "outputId": "fa66931f-0013-49f1-98f4-b35bd9ae74ec"
   },
   "outputs": [
    {
     "data": {
      "image/png": "[encoded data removed]",
      "text/plain": [
       "<Figure size 432x288 with 1 Axes>"
      ]
     },
     "metadata": {
      "needs_background": "light"
     },
     "output_type": "display_data"
    }
   ],
   "source": [
    "## scores of GridSearch CV\n",
    "scores = rf.cv_results_\n",
    "#\n",
    "## plotting accuracies with n_estimators\n",
    "plt.figure()\n",
    "plt.plot(scores[\"param_n_estimators\"], \n",
    "         scores[\"mean_train_score\"], \n",
    "         label=\"training accuracy\")\n",
    "plt.plot(scores[\"param_n_estimators\"], \n",
    "         scores[\"mean_test_score\"], \n",
    "         label=\"test accuracy\")\n",
    "plt.xlabel(\"n_estimators\")\n",
    "plt.ylabel(\"Accuracy\")\n",
    "plt.legend()\n",
    "plt.show()"
   ]
  },
  {
   "cell_type": "code",
   "execution_count": 79,
   "metadata": {
    "id": "_8AeFeTwzacM"
   },
   "outputs": [
    {
     "data": {
      "text/plain": [
       "GridSearchCV(cv=5, estimator=RandomForestClassifier(), n_jobs=-1,\n",
       "             param_grid={'min_samples_leaf': range(30, 120, 10)},\n",
       "             return_train_score=True, scoring='accuracy')"
      ]
     },
     "execution_count": 79,
     "metadata": {},
     "output_type": "execute_result"
    }
   ],
   "source": [
    "# GridSearchCV to find optimal min_samples_leaf\n",
    "from sklearn.model_selection import KFold\n",
    "from sklearn.model_selection import GridSearchCV\n",
    "\n",
    "\n",
    "# specify number of folds for k-fold CV\n",
    "n_folds = 5\n",
    "\n",
    "# parameters to build the model on\n",
    "parameters = {'min_samples_leaf': range(30, 120, 10)}\n",
    "\n",
    "# instantiate the model\n",
    "rf = RandomForestClassifier()\n",
    "\n",
    "\n",
    "# fit tree on training data\n",
    "rf = GridSearchCV(rf, parameters, \n",
    "                    cv=n_folds, \n",
    "                   scoring=\"accuracy\",n_jobs = -1,\n",
    "                  return_train_score=True)\n",
    "rf.fit(X_tr, y_tr)"
   ]
  },
  {
   "cell_type": "code",
   "execution_count": 80,
   "metadata": {
    "id": "zojA5TERzacM"
   },
   "outputs": [
    {
     "data": {
      "image/png": "[encoded data removed]",
      "text/plain": [
       "<Figure size 432x288 with 1 Axes>"
      ]
     },
     "metadata": {
      "needs_background": "light"
     },
     "output_type": "display_data"
    }
   ],
   "source": [
    "# scores of GridSearch CV\n",
    "scores = rf.cv_results_\n",
    "\n",
    "# plotting accuracies with min_samples_leaf\n",
    "plt.figure()\n",
    "plt.plot(scores[\"param_min_samples_leaf\"], \n",
    "         scores[\"mean_train_score\"], \n",
    "         label=\"training accuracy\")\n",
    "plt.plot(scores[\"param_min_samples_leaf\"], \n",
    "         scores[\"mean_test_score\"], \n",
    "         label=\"test accuracy\")\n",
    "plt.xlabel(\"min_samples_leaf\")\n",
    "plt.ylabel(\"Accuracy\")\n",
    "plt.legend()\n",
    "plt.show()"
   ]
  },
  {
   "cell_type": "code",
   "execution_count": 81,
   "metadata": {
    "id": "SZ86eGIZzacM"
   },
   "outputs": [
    {
     "data": {
      "text/plain": [
       "GridSearchCV(cv=5, estimator=RandomForestClassifier(), n_jobs=-1,\n",
       "             param_grid={'min_samples_split': range(100, 300, 25)},\n",
       "             return_train_score=True, scoring='accuracy')"
      ]
     },
     "execution_count": 81,
     "metadata": {},
     "output_type": "execute_result"
    }
   ],
   "source": [
    "# GridSearchCV to find optimal min_samples_split\n",
    "from sklearn.model_selection import KFold\n",
    "from sklearn.model_selection import GridSearchCV\n",
    "\n",
    "\n",
    "# specify number of folds for k-fold CV\n",
    "n_folds = 5\n",
    "\n",
    "# parameters to build the model on\n",
    "parameters = {'min_samples_split': range(100, 300, 25)}\n",
    "\n",
    "# instantiate the model\n",
    "rf = RandomForestClassifier()\n",
    "\n",
    "\n",
    "# fit tree on training data\n",
    "rf = GridSearchCV(rf, parameters, \n",
    "                    cv=n_folds, \n",
    "                   scoring=\"accuracy\",n_jobs = -1,\n",
    "                   return_train_score=True)\n",
    "rf.fit(X_tr, y_tr)"
   ]
  },
  {
   "cell_type": "code",
   "execution_count": 82,
   "metadata": {
    "id": "JEnfVip6zacM"
   },
   "outputs": [
    {
     "data": {
      "image/png": "[encoded data removed]",
      "text/plain": [
       "<Figure size 432x288 with 1 Axes>"
      ]
     },
     "metadata": {
      "needs_background": "light"
     },
     "output_type": "display_data"
    }
   ],
   "source": [
    "# scores of GridSearch CV\n",
    "scores = rf.cv_results_\n",
    "\n",
    "# plotting accuracies with min_samples_split\n",
    "plt.figure()\n",
    "plt.plot(scores[\"param_min_samples_split\"], \n",
    "         scores[\"mean_train_score\"], \n",
    "         label=\"training accuracy\")\n",
    "plt.plot(scores[\"param_min_samples_split\"], \n",
    "         scores[\"mean_test_score\"], \n",
    "         label=\"test accuracy\")\n",
    "plt.xlabel(\"min_samples_split\")\n",
    "plt.ylabel(\"Accuracy\")\n",
    "plt.legend()\n",
    "plt.show()"
   ]
  },
  {
   "cell_type": "code",
   "execution_count": 83,
   "metadata": {
    "id": "ikQPmuxGzacM"
   },
   "outputs": [],
   "source": [
    "# Create the parameter grid based on the results of random search \n",
    "param_grid = {\n",
    "    'max_depth': [4,8,10],\n",
    "    'min_samples_leaf': range(100, 300, 100),\n",
    "    'min_samples_split': range(200, 500, 100),\n",
    "    'n_estimators': [500,700], \n",
    "    'max_features': [10,20,25]\n",
    "}\n",
    "# Create a based model\n",
    "rf = RandomForestClassifier()\n",
    "# Instantiate the grid search model\n",
    "grid_search = GridSearchCV(estimator = rf, param_grid = param_grid, \n",
    "                          cv = 3, n_jobs = -1,verbose = 1)"
   ]
  },
  {
   "cell_type": "code",
   "execution_count": null,
   "metadata": {
    "id": "7ztpDAtQzacN"
   },
   "outputs": [
    {
     "name": "stdout",
     "output_type": "stream",
     "text": [
      "Fitting 3 folds for each of 108 candidates, totalling 324 fits\n"
     ]
    }
   ],
   "source": [
    "# fit the grid search with the data\n",
    "grid_search.fit(X_tr, y_tr)\n",
    "# optimal accuracy score and hyperparameters\n",
    "print('Accuracy is',grid_search.best_score_,'using',grid_search.best_params_)"
   ]
  },
  {
   "cell_type": "code",
   "execution_count": null,
   "metadata": {
    "id": "ulwiAgjkzacN"
   },
   "outputs": [],
   "source": [
    "from sklearn.ensemble import RandomForestClassifier\n",
    "from sklearn import metrics\n",
    "X_train, X_test, y_train, y_test = train_test_split(X, y, test_size=0.2, random_state=101)\n",
    "\n",
    "model_rf = RandomForestClassifier(bootstrap=True,\n",
    "                                  max_depth=10,\n",
    "                                  min_samples_leaf=100, \n",
    "                                  min_samples_split=200,\n",
    "                                  n_estimators=1000 ,\n",
    "                                  oob_score = True, n_jobs = -1,\n",
    "                                  random_state =50,\n",
    "                                  max_features = 15,\n",
    "                                  max_leaf_nodes = 30)\n",
    "model_rf.fit(X_train, y_train)\n",
    "\n",
    "# Make predictions\n",
    "prediction_test = model_rf.predict(X_test)"
   ]
  },
  {
   "cell_type": "code",
   "execution_count": null,
   "metadata": {
    "id": "58QJSXQ-zacN"
   },
   "outputs": [],
   "source": [
    "# evaluation metrics\n",
    "from sklearn.metrics import classification_report,confusion_matrix\n",
    "print(classification_report(y_test,prediction_test))\n",
    "print(confusion_matrix(y_test,prediction_test))"
   ]
  },
  {
   "cell_type": "code",
   "execution_count": null,
   "metadata": {
    "id": "e2mRjApvzacN"
   },
   "outputs": [],
   "source": [
    "# accuracy score\n",
    "print ('Accuracy Score for Random Forest Final Model :',metrics.accuracy_score(y_test, prediction_test))"
   ]
  },
  {
   "cell_type": "code",
   "execution_count": null,
   "metadata": {
    "id": "XyLhSMhSzacN"
   },
   "outputs": [],
   "source": [
    "# list of important features\n",
    "X = df\n",
    "features = X.columns.values\n",
    "X = pd.DataFrame(scaler.transform(X))\n",
    "X.columns = features\n",
    "\n",
    "importances = model_rf.feature_importances_\n",
    "weights = pd.Series(importances,\n",
    "                 index=X.columns.values)\n",
    "weights.sort_values()[-10:].plot(kind = 'barh')"
   ]
  },
  {
   "cell_type": "markdown",
   "metadata": {
    "id": "SXsY_jJozacN"
   },
   "source": [
    "### Conclusion \n",
    "\n",
    "Random Forest\n",
    "\n",
    "1. Local Incoming for Month 8, Average Revenue Per Customer for Month 8 and Max Recharge Amount for Month 8 are the most important predictor variables to predict churn."
   ]
  },
  {
   "cell_type": "markdown",
   "metadata": {
    "id": "mydFjuV9zacO"
   },
   "source": [
    "# Conclusion\n",
    "\n",
    "1. `Std Outgoing Calls` and `Revenue Per Customer` are strong indicators of Churn.\n",
    "2. `Local Incoming` and `Outgoing Calls` for 8th Month and `Avg revenue` in 8th Month are the most important columns to predict churn.\n",
    "3. cutomers with tenure less than 4 yrs are more likely to churn.\n",
    "4. `Max Recharge Amount` is a strong feature to predict churn.\n",
    "6. Random Forest produced the best prediction results followed by SVM.\n"
   ]
  }
 ],
 "metadata": {
  "colab": {
   "collapsed_sections": [
    "SXsY_jJozacN",
    "mydFjuV9zacO"
   ],
   "name": "telecom-churn-case-study-upgrad.ipynb",
   "provenance": []
  },
  "kernelspec": {
   "display_name": "Python 3 (ipykernel)",
   "language": "python",
   "name": "python3"
  },
  "language_info": {
   "codemirror_mode": {
    "name": "ipython",
    "version": 3
   },
   "file_extension": ".py",
   "mimetype": "text/x-python",
   "name": "python",
   "nbconvert_exporter": "python",
   "pygments_lexer": "ipython3",
   "version": "3.9.7"
  }
 },
 "nbformat": 4,
 "nbformat_minor": 1
}
